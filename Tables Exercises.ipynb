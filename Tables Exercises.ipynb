{
 "cells": [
  {
   "cell_type": "code",
   "execution_count": 1,
   "metadata": {
    "autorun": true,
    "editable": false,
    "jupyter": {
     "source_hidden": true
    },
    "tags": [
     "remove-cell"
    ]
   },
   "outputs": [],
   "source": [
    "#;.pykx.disableJupyter()"
   ]
  },
  {
   "cell_type": "code",
   "execution_count": 2,
   "metadata": {
    "autorun": true,
    "editable": false,
    "jupyter": {
     "source_hidden": true
    },
    "tags": [
     "remove-cell"
    ]
   },
   "outputs": [
    {
     "name": "stdout",
     "output_type": "stream",
     "text": [
      "PyKX now running in 'jupyter_qfirst' mode. All cells by default will be run as q code. \n",
      "Include '%%py' at the beginning of each cell to run as python code. \n"
     ]
    }
   ],
   "source": [
    "# https://code.kx.com/pykx/3.0/examples/jupyter-integration.html#q-first-mode\n",
    "import pykx as kx\n",
    "kx.util.jupyter_qfirst_enable()"
   ]
  },
  {
   "cell_type": "markdown",
   "metadata": {},
   "source": [
    "# Kx Training: Exercise - Tables"
   ]
  },
  {
   "cell_type": "markdown",
   "metadata": {
    "heading_collapsed": true
   },
   "source": [
    "## Creating tables and investigation"
   ]
  },
  {
   "cell_type": "markdown",
   "metadata": {
    "heading_collapsed": true,
    "hidden": true
   },
   "source": [
    "### Unkeyed Tables"
   ]
  },
  {
   "cell_type": "markdown",
   "metadata": {
    "hidden": true,
    "reveal": "wvklmeh4sw",
    "reveal-hidden": true
   },
   "source": [
    "* Create a table called `quote` with columns\n",
    "        - sym:`IBM.L`VOD.L`VED.L\n",
    "        - price:50.3 12.1 151.56\n",
    "        - size: 1000 200 60"
   ]
  },
  {
   "cell_type": "code",
   "execution_count": null,
   "metadata": {
    "hidden": true,
    "reveal": "wvklmeh4sw",
    "scrolled": true
   },
   "outputs": [],
   "source": [
    "quote:([]sym:`IBM.L`VOD.L`VED.L;price:50.3 12.1 151.56;size: 1000 200 60)\n",
    "quote"
   ]
  },
  {
   "cell_type": "code",
   "execution_count": 5,
   "metadata": {
    "hidden": true,
    "scrolled": true
   },
   "outputs": [],
   "source": [
    "quote:([] sym:`IBM.L`VOD.L`VED.L; price:50.3 12.1 151.56; size:1000 200 60)"
   ]
  },
  {
   "cell_type": "markdown",
   "metadata": {
    "hidden": true,
    "reveal": "b9608t0jozg",
    "reveal-hidden": true
   },
   "source": [
    "* How can we return the number of rows in this table?"
   ]
  },
  {
   "cell_type": "code",
   "execution_count": null,
   "metadata": {
    "hidden": true,
    "reveal": "b9608t0jozg",
    "scrolled": true
   },
   "outputs": [],
   "source": [
    "count quote"
   ]
  },
  {
   "cell_type": "code",
   "execution_count": 6,
   "metadata": {
    "hidden": true,
    "scrolled": true
   },
   "outputs": [
    {
     "name": "stdout",
     "output_type": "stream",
     "text": [
      "3\n"
     ]
    }
   ],
   "source": [
    "count quote"
   ]
  },
  {
   "cell_type": "markdown",
   "metadata": {
    "hidden": true,
    "reveal": "3gzd6t4ajhl",
    "reveal-hidden": true
   },
   "source": [
    "* What is the type of the table?"
   ]
  },
  {
   "cell_type": "code",
   "execution_count": null,
   "metadata": {
    "hidden": true,
    "reveal": "3gzd6t4ajhl",
    "scrolled": true
   },
   "outputs": [],
   "source": [
    "type quote"
   ]
  },
  {
   "cell_type": "code",
   "execution_count": 7,
   "metadata": {
    "hidden": true,
    "scrolled": true
   },
   "outputs": [
    {
     "name": "stdout",
     "output_type": "stream",
     "text": [
      "98h\n"
     ]
    }
   ],
   "source": [
    "type quote"
   ]
  },
  {
   "cell_type": "markdown",
   "metadata": {
    "hidden": true,
    "reveal": "s7y04j32erf",
    "reveal-hidden": true
   },
   "source": [
    "* What command can we use to see the data types of each column of the table?"
   ]
  },
  {
   "cell_type": "code",
   "execution_count": null,
   "metadata": {
    "hidden": true,
    "reveal": "s7y04j32erf",
    "scrolled": true
   },
   "outputs": [],
   "source": [
    "meta quote"
   ]
  },
  {
   "cell_type": "code",
   "execution_count": 8,
   "metadata": {
    "hidden": true,
    "scrolled": true
   },
   "outputs": [
    {
     "name": "stdout",
     "output_type": "stream",
     "text": [
      "c    | t f a\n",
      "-----| -----\n",
      "sym  | s    \n",
      "price| f    \n",
      "size | j    \n"
     ]
    }
   ],
   "source": [
    "meta quote"
   ]
  },
  {
   "cell_type": "markdown",
   "metadata": {
    "heading_collapsed": true,
    "hidden": true
   },
   "source": [
    "### Keyed Tables"
   ]
  },
  {
   "cell_type": "markdown",
   "metadata": {
    "hidden": true,
    "reveal": "hk3wd9pijvo",
    "reveal-hidden": true
   },
   "source": [
    "* Create a keyed table `tradeKey` with the following data:\n",
    "\n",
    "\n",
    "    - id:1001 1002 1003 1004 1005 1006 1007 1008 1009 1010 (key)\n",
    "    - sym:`IBM`GE`JPM`BP`JPM`BP`JPM`ASD`JPM`IBM\n",
    "    - price:79 88 83 74 87 54 95 91 52 89\n",
    "    - size:117 123 112 166 136 137 144 128 120 130\n",
    "    - side:`B`S`B`S`B`S`B`B`S`B\n",
    "\n",
    "Keyed on `id`. Do so using the following methods:\n",
    "\n",
    "- Dictionary of flipped dictionaries (aka tables)\n",
    "- Table definition syntax"
   ]
  },
  {
   "cell_type": "code",
   "execution_count": null,
   "metadata": {
    "hidden": true,
    "reveal": "hk3wd9pijvo",
    "scrolled": true
   },
   "outputs": [],
   "source": [
    "// Dictionary of flipped dictionaries\n",
    "k:flip (enlist `id)!enlist 1001 1002 1003 1004 1005 1006 1007 1008 1009 1010\n",
    "v:flip `sym`price`size`side!(`IBM`GE`JPM`BP`JPM`BP`JPM`ASD`JPM`IBM;\n",
    "                             79 88 83 74 87 54 95 91 52 89;\n",
    "                             117 123 112 166 136 137 144 128 120 130;\n",
    "                             `B`S`B`S`B`S`B`B`S`B)\n",
    "show tradeKey:k!v"
   ]
  },
  {
   "cell_type": "code",
   "execution_count": null,
   "metadata": {
    "hidden": true,
    "reveal": "hk3wd9pijvo",
    "scrolled": true
   },
   "outputs": [],
   "source": [
    "// Table definition syntax\n",
    "tradeKey:([id:1001 1002 1003 1004 1005 1006 1007 1008 1009 1010]\n",
    "        sym:`IBM`GE`JPM`BP`JPM`BP`JPM`ASD`JPM`IBM;\n",
    "        price:iq:79 88 83 74 87 54 95 91 52 89;\n",
    "        size:117 123 112 166 136 137 144 128 120 130;\n",
    "        side:`B`S`B`S`B`S`B`B`S`B)\n",
    "\n",
    "show tradeKey"
   ]
  },
  {
   "cell_type": "code",
   "execution_count": 24,
   "metadata": {
    "hidden": true,
    "scrolled": true
   },
   "outputs": [
    {
     "name": "stdout",
     "output_type": "stream",
     "text": [
      "1b\n"
     ]
    }
   ],
   "source": [
    "// by table definition\n",
    "tradeKey1:([id:1001 1002 1003 1004 1005 1006 1007 1008 1009 1010] sym:`IBM`GE`JPM`BP`JPM`BP`JPM`ASD`JPM`IBM;price:79 88 83 74 87 54 95 91 52 89; size:117 123 112 166 136 137 144 128 120 130; side:`B`S`B`S`B`S`B`B`S`B)\n",
    "\n",
    "// by dictionary of two dictionaries\n",
    "ks:flip (enlist `id)!enlist 1001 1002 1003 1004 1005 1006 1007 1008 1009 1010;\n",
    "vals:flip `sym`price`size`side!(`IBM`GE`JPM`BP`JPM`BP`JPM`ASD`JPM`IBM;79 88 83 74 87 54 95 91 52 89;117 123 112 166 136 137 144 128 120 130;`B`S`B`S`B`S`B`B`S`B)\n",
    "tradeKey:tradeKey2:ks!vals\n",
    "\n",
    "tradeKey1 ~ tradeKey2"
   ]
  },
  {
   "cell_type": "markdown",
   "metadata": {
    "hidden": true,
    "reveal": "5xgwb5hnqtt",
    "reveal-hidden": true
   },
   "source": [
    "* Confirm that `tradeKey` is a keyed table"
   ]
  },
  {
   "cell_type": "code",
   "execution_count": null,
   "metadata": {
    "hidden": true,
    "reveal": "5xgwb5hnqtt",
    "scrolled": true
   },
   "outputs": [],
   "source": [
    "99h~type tradeKey"
   ]
  },
  {
   "cell_type": "code",
   "execution_count": 26,
   "metadata": {
    "hidden": true,
    "scrolled": true
   },
   "outputs": [
    {
     "name": "stdout",
     "output_type": "stream",
     "text": [
      "99h\n",
      "98h\n",
      "98h\n"
     ]
    }
   ],
   "source": [
    "type tradeKey / dict 99\n",
    "type key tradeKey / table 98\n",
    "type value tradeKey / table 98"
   ]
  },
  {
   "cell_type": "markdown",
   "metadata": {
    "hidden": true,
    "reveal": "dhmnslf4p56",
    "reveal-hidden": true
   },
   "source": [
    "* Extract the keys from the trade table\n"
   ]
  },
  {
   "cell_type": "code",
   "execution_count": null,
   "metadata": {
    "hidden": true,
    "reveal": "dhmnslf4p56",
    "scrolled": true
   },
   "outputs": [],
   "source": [
    "key tradeKey"
   ]
  },
  {
   "cell_type": "code",
   "execution_count": 29,
   "metadata": {
    "hidden": true,
    "scrolled": true
   },
   "outputs": [
    {
     "name": "stdout",
     "output_type": "stream",
     "text": [
      "id  \n",
      "----\n",
      "1001\n",
      "1002\n",
      "1003\n",
      "1004\n",
      "1005\n",
      "1006\n",
      "1007\n",
      "1008\n",
      "1009\n",
      "1010\n",
      "1001 1002 1003 1004 1005 1006 1007 1008 1009 1010\n",
      "1001 1002 1003 1004 1005 1006 1007 1008 1009 1010\n"
     ]
    }
   ],
   "source": [
    "key tradeKey\n",
    "(key tradeKey)[`id]\n",
    "exec id from tradeKey"
   ]
  },
  {
   "cell_type": "markdown",
   "metadata": {
    "hidden": true,
    "reveal": "u5p4nb6c6vf",
    "reveal-hidden": true
   },
   "source": [
    "* Extract the values of the trade table"
   ]
  },
  {
   "cell_type": "code",
   "execution_count": null,
   "metadata": {
    "hidden": true,
    "reveal": "u5p4nb6c6vf",
    "scrolled": true
   },
   "outputs": [],
   "source": [
    "value tradeKey"
   ]
  },
  {
   "cell_type": "code",
   "execution_count": 30,
   "metadata": {
    "hidden": true,
    "scrolled": true
   },
   "outputs": [
    {
     "name": "stdout",
     "output_type": "stream",
     "text": [
      "sym price size side\n",
      "-------------------\n",
      "IBM 79    117  B   \n",
      "GE  88    123  S   \n",
      "JPM 83    112  B   \n",
      "BP  74    166  S   \n",
      "JPM 87    136  B   \n",
      "BP  54    137  S   \n",
      "JPM 95    144  B   \n",
      "ASD 91    128  B   \n",
      "JPM 52    120  S   \n",
      "IBM 89    130  B   \n"
     ]
    }
   ],
   "source": [
    "value tradeKey"
   ]
  },
  {
   "cell_type": "markdown",
   "metadata": {
    "heading_collapsed": true
   },
   "source": [
    "## Manipulating tables"
   ]
  },
  {
   "cell_type": "markdown",
   "metadata": {
    "heading_collapsed": true,
    "hidden": true
   },
   "source": [
    "### Unkeyed Tables"
   ]
  },
  {
   "cell_type": "markdown",
   "metadata": {
    "hidden": true,
    "reveal": "j53eu1kiub",
    "reveal-hidden": true
   },
   "source": [
    "* Return the `quote` table as a dictionary."
   ]
  },
  {
   "cell_type": "code",
   "execution_count": null,
   "metadata": {
    "hidden": true,
    "reveal": "j53eu1kiub",
    "scrolled": true
   },
   "outputs": [],
   "source": [
    "flip quote"
   ]
  },
  {
   "cell_type": "code",
   "execution_count": 31,
   "metadata": {
    "hidden": true,
    "scrolled": true
   },
   "outputs": [
    {
     "name": "stdout",
     "output_type": "stream",
     "text": [
      "sym  | IBM.L VOD.L VED.L \n",
      "price| 50.3  12.1  151.56\n",
      "size | 1000  200   60    \n"
     ]
    }
   ],
   "source": [
    "flip quote"
   ]
  },
  {
   "cell_type": "markdown",
   "metadata": {
    "hidden": true,
    "reveal": "5b1jsv2ae6d",
    "reveal-hidden": true
   },
   "source": [
    "* Use dictionary syntax to return the prices of the `quote` table as a list."
   ]
  },
  {
   "cell_type": "code",
   "execution_count": null,
   "metadata": {
    "hidden": true,
    "reveal": "5b1jsv2ae6d",
    "scrolled": true
   },
   "outputs": [],
   "source": [
    "quote `price\n",
    "quote[`price]"
   ]
  },
  {
   "cell_type": "code",
   "execution_count": 35,
   "metadata": {
    "hidden": true,
    "scrolled": true
   },
   "outputs": [
    {
     "name": "stdout",
     "output_type": "stream",
     "text": [
      "50.3 12.1 151.56\n"
     ]
    }
   ],
   "source": [
    "quote[`price]"
   ]
  },
  {
   "cell_type": "markdown",
   "metadata": {
    "hidden": true,
    "reveal": "jklpt6topzg",
    "reveal-hidden": true
   },
   "source": [
    "* Use dot syntax to return the sym column as a list."
   ]
  },
  {
   "cell_type": "code",
   "execution_count": null,
   "metadata": {
    "hidden": true,
    "reveal": "jklpt6topzg",
    "scrolled": true
   },
   "outputs": [],
   "source": [
    "quote.sym"
   ]
  },
  {
   "cell_type": "code",
   "execution_count": 36,
   "metadata": {
    "hidden": true,
    "scrolled": true
   },
   "outputs": [
    {
     "name": "stdout",
     "output_type": "stream",
     "text": [
      "`IBM.L`VOD.L`VED.L\n"
     ]
    }
   ],
   "source": [
    "quote.sym"
   ]
  },
  {
   "cell_type": "markdown",
   "metadata": {
    "hidden": true,
    "reveal": "n9xb2ikixuj",
    "reveal-hidden": true
   },
   "source": [
    "* Rename the first two columns of the table to SYM and PRICE"
   ]
  },
  {
   "cell_type": "code",
   "execution_count": null,
   "metadata": {
    "hidden": true,
    "reveal": "n9xb2ikixuj",
    "scrolled": true
   },
   "outputs": [],
   "source": [
    "`SYM`PRICE xcol quote"
   ]
  },
  {
   "cell_type": "code",
   "execution_count": 39,
   "metadata": {
    "hidden": true,
    "scrolled": true
   },
   "outputs": [
    {
     "name": "stdout",
     "output_type": "stream",
     "text": [
      "SYM   PRICE  size\n",
      "-----------------\n",
      "IBM.L 50.3   1000\n",
      "VOD.L 12.1   200 \n",
      "VED.L 151.56 60  \n"
     ]
    }
   ],
   "source": [
    "`SYM`PRICE xcol quote"
   ]
  },
  {
   "cell_type": "markdown",
   "metadata": {
    "hidden": true,
    "reveal": "y25mu6eoog",
    "reveal-hidden": true
   },
   "source": [
    "* Order the table descending by size"
   ]
  },
  {
   "cell_type": "code",
   "execution_count": null,
   "metadata": {
    "hidden": true,
    "reveal": "y25mu6eoog",
    "scrolled": true
   },
   "outputs": [],
   "source": [
    "`size xdesc quote"
   ]
  },
  {
   "cell_type": "code",
   "execution_count": 40,
   "metadata": {
    "hidden": true,
    "scrolled": true
   },
   "outputs": [
    {
     "name": "stdout",
     "output_type": "stream",
     "text": [
      "sym   price  size\n",
      "-----------------\n",
      "IBM.L 50.3   1000\n",
      "VOD.L 12.1   200 \n",
      "VED.L 151.56 60  \n"
     ]
    }
   ],
   "source": [
    "`size xdesc quote"
   ]
  },
  {
   "cell_type": "markdown",
   "metadata": {
    "hidden": true,
    "reveal": "1ph5mttetny",
    "reveal-hidden": true
   },
   "source": [
    "* Reorder the columns so that price and size are the other way round."
   ]
  },
  {
   "cell_type": "code",
   "execution_count": null,
   "metadata": {
    "hidden": true,
    "reveal": "1ph5mttetny",
    "scrolled": true
   },
   "outputs": [],
   "source": [
    "`sym`size`price xcols quote  //if you're getting confused between xcol and xcols, it may be helpful to think \n",
    "                                //xcols has an (s) for re-Sorting"
   ]
  },
  {
   "cell_type": "code",
   "execution_count": 47,
   "metadata": {
    "hidden": true,
    "scrolled": true
   },
   "outputs": [
    {
     "name": "stdout",
     "output_type": "stream",
     "text": [
      "sym   size price \n",
      "-----------------\n",
      "IBM.L 1000 50.3  \n",
      "VOD.L 200  12.1  \n",
      "VED.L 60   151.56\n"
     ]
    }
   ],
   "source": [
    "`sym`size`price xcols quote"
   ]
  },
  {
   "cell_type": "markdown",
   "metadata": {
    "hidden": true,
    "reveal": "p3uupgse01m",
    "reveal-hidden": true
   },
   "source": [
    "Consider the two following tables:\n",
    "\n",
    "  \n",
    "  `` t3:([] sym:`a`b`c`d; price:1 2 3 4f;size:100 200 300 400)\n",
    "t4:([] sym:`a`c`f; price:11 3 11f;size:100 300 1000)``\n",
    "    \n",
    "* Retrieve the rows where t3 and t4 are the same"
   ]
  },
  {
   "cell_type": "code",
   "execution_count": null,
   "metadata": {
    "hidden": true,
    "reveal": "p3uupgse01m",
    "scrolled": true
   },
   "outputs": [],
   "source": [
    "show t3:([] sym:`a`b`c`d; price:1 2 3 4f;size:100 200 300 400)\n",
    "show t4:([] sym:`a`c`f; price:11 3 11f;size:100 300 1000)\n",
    "t3 where t3 in t4  "
   ]
  },
  {
   "cell_type": "code",
   "execution_count": null,
   "metadata": {
    "hidden": true,
    "reveal": "p3uupgse01m",
    "scrolled": true
   },
   "outputs": [],
   "source": [
    "t3 inter t4   //finding the intersection will also work"
   ]
  },
  {
   "cell_type": "code",
   "execution_count": 53,
   "metadata": {
    "hidden": true,
    "scrolled": true
   },
   "outputs": [
    {
     "name": "stdout",
     "output_type": "stream",
     "text": [
      "sym price size\n",
      "--------------\n",
      "c   3     300 \n",
      "sym price size\n",
      "--------------\n",
      "c   3     300 \n"
     ]
    }
   ],
   "source": [
    "t3:([] sym:`a`b`c`d; price:1 2 3 4f;size:100 200 300 400)\n",
    "t4:([] sym:`a`c`f; price:11 3 11f;size:100 300 1000)\n",
    "\n",
    "t3 inter t4\n",
    "t3 where t3 in t4 // t3[2], where t3 in t4 returns index 2"
   ]
  },
  {
   "cell_type": "markdown",
   "metadata": {
    "hidden": true,
    "reveal": "1fpagh5mbmw",
    "reveal-hidden": true
   },
   "source": [
    "* Retrieve the row indices of t3 which are in t4"
   ]
  },
  {
   "cell_type": "code",
   "execution_count": null,
   "metadata": {
    "hidden": true,
    "reveal": "1fpagh5mbmw",
    "scrolled": true
   },
   "outputs": [],
   "source": [
    "where t3 in t4"
   ]
  },
  {
   "cell_type": "code",
   "execution_count": 54,
   "metadata": {
    "hidden": true,
    "scrolled": true
   },
   "outputs": [
    {
     "name": "stdout",
     "output_type": "stream",
     "text": [
      ",2\n"
     ]
    }
   ],
   "source": [
    "where t3 in t4"
   ]
  },
  {
   "cell_type": "markdown",
   "metadata": {
    "hidden": true,
    "reveal": "s2r3qx8xpw",
    "reveal-hidden": true
   },
   "source": [
    "* Retrieve the union set of t3 and t4"
   ]
  },
  {
   "cell_type": "code",
   "execution_count": null,
   "metadata": {
    "hidden": true,
    "reveal": "s2r3qx8xpw",
    "scrolled": true
   },
   "outputs": [],
   "source": [
    "t3 union t4"
   ]
  },
  {
   "cell_type": "code",
   "execution_count": 59,
   "metadata": {
    "hidden": true,
    "scrolled": true
   },
   "outputs": [
    {
     "name": "stdout",
     "output_type": "stream",
     "text": [
      "sym price size\n",
      "--------------\n",
      "a   1     100 \n",
      "b   2     200 \n",
      "c   3     300 \n",
      "d   4     400 \n",
      "a   11    100 \n",
      "f   11    1000\n"
     ]
    }
   ],
   "source": [
    "t3 union t4"
   ]
  },
  {
   "cell_type": "markdown",
   "metadata": {
    "hidden": true,
    "reveal": "c1slnkszad4",
    "reveal-hidden": true
   },
   "source": [
    "* Retrieve the rows in t3, except for the ones in t4"
   ]
  },
  {
   "cell_type": "code",
   "execution_count": null,
   "metadata": {
    "hidden": true,
    "reveal": "c1slnkszad4",
    "scrolled": true
   },
   "outputs": [],
   "source": [
    "t3 except t4"
   ]
  },
  {
   "cell_type": "code",
   "execution_count": 64,
   "metadata": {
    "hidden": true,
    "scrolled": true
   },
   "outputs": [
    {
     "name": "stdout",
     "output_type": "stream",
     "text": [
      "1b\n",
      "sym price size\n",
      "--------------\n",
      "a   1     100 \n",
      "b   2     200 \n",
      "d   4     400 \n"
     ]
    }
   ],
   "source": [
    "(t3 where not t3 in t4) ~ t3 except t4\n",
    "t3 except t4"
   ]
  },
  {
   "cell_type": "markdown",
   "metadata": {
    "heading_collapsed": true,
    "hidden": true
   },
   "source": [
    "### Keyed Tables"
   ]
  },
  {
   "cell_type": "markdown",
   "metadata": {
    "hidden": true,
    "reveal": "1q1ngk6mlqkg",
    "reveal-hidden": true
   },
   "source": [
    "* Extract the values of the sym column from the `tradeKey` table"
   ]
  },
  {
   "cell_type": "code",
   "execution_count": null,
   "metadata": {
    "hidden": true,
    "reveal": "1q1ngk6mlqkg",
    "scrolled": true
   },
   "outputs": [],
   "source": [
    "(value tradeKey)[`sym]"
   ]
  },
  {
   "cell_type": "code",
   "execution_count": 66,
   "metadata": {
    "hidden": true,
    "scrolled": true
   },
   "outputs": [
    {
     "name": "stdout",
     "output_type": "stream",
     "text": [
      "id  | sym price size side\n",
      "----| -------------------\n",
      "1001| IBM 79    117  B   \n",
      "1002| GE  88    123  S   \n",
      "1003| JPM 83    112  B   \n",
      "1004| BP  74    166  S   \n",
      "1005| JPM 87    136  B   \n",
      "1006| BP  54    137  S   \n",
      "1007| JPM 95    144  B   \n",
      "1008| ASD 91    128  B   \n",
      "1009| JPM 52    120  S   \n",
      "1010| IBM 89    130  B   \n",
      "`IBM`GE`JPM`BP`JPM`BP`JPM`ASD`JPM`IBM\n",
      "`IBM`GE`JPM`BP`JPM`BP`JPM`ASD`JPM`IBM\n"
     ]
    }
   ],
   "source": [
    "tradeKey\n",
    "\n",
    "exec sym from tradeKey\n",
    "(value tradeKey)[`sym]"
   ]
  },
  {
   "cell_type": "markdown",
   "metadata": {
    "hidden": true,
    "reveal": "b71nrtng0d",
    "reveal-hidden": true
   },
   "source": [
    "* Extract the row values (sym, price, size and side) for id `1005` and `1008` from the `tradeKey` table"
   ]
  },
  {
   "cell_type": "code",
   "execution_count": null,
   "metadata": {
    "hidden": true,
    "reveal": "b71nrtng0d",
    "scrolled": true
   },
   "outputs": [],
   "source": [
    "tradeKey[([]id:1005 1008)]"
   ]
  },
  {
   "cell_type": "code",
   "execution_count": 67,
   "metadata": {
    "hidden": true,
    "scrolled": true
   },
   "outputs": [
    {
     "name": "stdout",
     "output_type": "stream",
     "text": [
      "sym price size side\n",
      "-------------------\n",
      "JPM 87    136  B   \n",
      "ASD 91    128  B   \n"
     ]
    }
   ],
   "source": [
    "tradeKey[([] id:(1005;1008))]"
   ]
  },
  {
   "cell_type": "markdown",
   "metadata": {
    "hidden": true,
    "reveal": "281sajrn63x",
    "reveal-hidden": true
   },
   "source": [
    "* Extract the price value for `tradeKey` id `1002`"
   ]
  },
  {
   "cell_type": "code",
   "execution_count": 69,
   "metadata": {
    "hidden": true,
    "reveal": "281sajrn63x",
    "scrolled": true
   },
   "outputs": [
    {
     "name": "stdout",
     "output_type": "stream",
     "text": [
      ",88\n"
     ]
    }
   ],
   "source": [
    "tradeKey[([]id:enlist 1002);`price]"
   ]
  },
  {
   "cell_type": "code",
   "execution_count": 68,
   "metadata": {
    "hidden": true,
    "scrolled": true
   },
   "outputs": [
    {
     "name": "stdout",
     "output_type": "stream",
     "text": [
      "88\n"
     ]
    }
   ],
   "source": [
    "tradeKey[1002;`price]"
   ]
  },
  {
   "cell_type": "markdown",
   "metadata": {
    "hidden": true,
    "reveal": "lgecihbc5o",
    "reveal-hidden": true
   },
   "source": [
    "* Modify the side for `tradeKey` id `1009` to be `` `B``"
   ]
  },
  {
   "cell_type": "code",
   "execution_count": null,
   "metadata": {
    "hidden": true,
    "reveal": "lgecihbc5o",
    "scrolled": true
   },
   "outputs": [],
   "source": [
    "tradeKey[([]id:enlist 1009);`side]:enlist `B\n",
    "show tradeKey"
   ]
  },
  {
   "cell_type": "code",
   "execution_count": 72,
   "metadata": {
    "hidden": true,
    "scrolled": true
   },
   "outputs": [
    {
     "name": "stdout",
     "output_type": "stream",
     "text": [
      "id  | sym price size side\n",
      "----| -------------------\n",
      "1001| IBM 79    117  B   \n",
      "1002| GE  88    123  S   \n",
      "1003| JPM 83    112  B   \n",
      "1004| BP  74    166  S   \n",
      "1005| JPM 87    136  B   \n",
      "1006| BP  54    137  S   \n",
      "1007| JPM 95    144  B   \n",
      "1008| ASD 91    128  B   \n",
      "1009| JPM 52    120  B   \n",
      "1010| IBM 89    130  B   \n"
     ]
    }
   ],
   "source": [
    "tradeKey[([]id:enlist 1009);`side]:`B\n",
    "tradeKey"
   ]
  },
  {
   "cell_type": "markdown",
   "metadata": {
    "hidden": true,
    "reveal": "3waupzq65g4",
    "reveal-hidden": true
   },
   "source": [
    "* Unkey the `tradeKey` table and assign it to the variable `unkeyedTrade`"
   ]
  },
  {
   "cell_type": "code",
   "execution_count": null,
   "metadata": {
    "hidden": true,
    "reveal": "3waupzq65g4",
    "scrolled": true
   },
   "outputs": [],
   "source": [
    "unkeyedTrade:0!tradeKey\n",
    "//or\n",
    "unkeyedTrade:() xkey tradeKey\n",
    "show unkeyedTrade"
   ]
  },
  {
   "cell_type": "code",
   "execution_count": 73,
   "metadata": {
    "hidden": true,
    "scrolled": true
   },
   "outputs": [],
   "source": [
    "unkeyedTrade:0!tradeKey"
   ]
  },
  {
   "cell_type": "markdown",
   "metadata": {
    "heading_collapsed": true
   },
   "source": [
    "## Appending records to tables"
   ]
  },
  {
   "cell_type": "markdown",
   "metadata": {
    "heading_collapsed": true,
    "hidden": true
   },
   "source": [
    "### Unkeyed Tables"
   ]
  },
  {
   "cell_type": "markdown",
   "metadata": {
    "hidden": true,
    "reveal": "3adk5kf9edk",
    "reveal-hidden": true
   },
   "source": [
    "* Create the table \n",
    "\n",
    "```t1:([] sym:`a`b`c`d`c`d; price:1 2 3 4 8 9f)```\n",
    "\n",
    "Use the insert syntax to insert the symbols <code>\\`e</code> and <code>\\`g</code> and the prices 5 and 7. Do it as a bulk insert."
   ]
  },
  {
   "cell_type": "code",
   "execution_count": null,
   "metadata": {
    "hidden": true,
    "reveal": "3adk5kf9edk",
    "scrolled": true
   },
   "outputs": [],
   "source": [
    "show t1:([] sym:`a`b`c`d`c`d; price:1 2 3 4 3 4f)\n",
    "`t1 insert (`e`g;5 7f)\n",
    "t1"
   ]
  },
  {
   "cell_type": "code",
   "execution_count": null,
   "metadata": {
    "hidden": true,
    "reveal": "3adk5kf9edk",
    "scrolled": true
   },
   "outputs": [],
   "source": [
    "//alternatively as a table insert: \n",
    "`t1 insert ([]sym:`e`g; price:5 7f)"
   ]
  },
  {
   "cell_type": "code",
   "execution_count": 75,
   "metadata": {
    "hidden": true,
    "scrolled": true
   },
   "outputs": [
    {
     "name": "stdout",
     "output_type": "stream",
     "text": [
      "6 7\n"
     ]
    }
   ],
   "source": [
    "t1:([] sym:`a`b`c`d`c`d; price:1 2 3 4 8 9f)\n",
    "`t1 insert ([] sym:`e`g; price:5 7f)"
   ]
  },
  {
   "cell_type": "markdown",
   "metadata": {
    "hidden": true,
    "reveal": "nn38xsih9ho",
    "reveal-hidden": true
   },
   "source": [
    "* Use the join (,) syntax to do the same thing"
   ]
  },
  {
   "cell_type": "code",
   "execution_count": null,
   "metadata": {
    "hidden": true,
    "reveal": "nn38xsih9ho",
    "scrolled": true
   },
   "outputs": [],
   "source": [
    "t1:([] sym:`a`b`c`d`c`d; price:1 2 3 4 3 4f)     \n",
    "show t1,:([]sym:`e`g;price:5 7f)          //join and amend in place \n",
    "meta t1 "
   ]
  },
  {
   "cell_type": "code",
   "execution_count": 76,
   "metadata": {
    "hidden": true,
    "scrolled": true
   },
   "outputs": [
    {
     "name": "stdout",
     "output_type": "stream",
     "text": [
      "`t1\n",
      "`sym`price!(`e;5f)\n",
      "`sym`price!(`g;7f)\n"
     ]
    }
   ],
   "source": [
    "`t1, ([] sym:`e`g; price:5 7f)"
   ]
  },
  {
   "cell_type": "markdown",
   "metadata": {
    "hidden": true,
    "reveal": "kq2u4brghm",
    "reveal-hidden": true
   },
   "source": [
    "* Extract the 3rd row from t1. What is it's type?"
   ]
  },
  {
   "cell_type": "code",
   "execution_count": 79,
   "metadata": {
    "hidden": true,
    "reveal": "kq2u4brghm",
    "scrolled": true
   },
   "outputs": [
    {
     "name": "stdout",
     "output_type": "stream",
     "text": [
      "sym  | `c\n",
      "price| 3f\n",
      "99h\n"
     ]
    }
   ],
   "source": [
    "t1 2\n",
    "type t1 2 "
   ]
  },
  {
   "cell_type": "code",
   "execution_count": 80,
   "metadata": {
    "hidden": true,
    "scrolled": true
   },
   "outputs": [
    {
     "name": "stdout",
     "output_type": "stream",
     "text": [
      "sym  | `c\n",
      "price| 3f\n",
      "99h\n"
     ]
    }
   ],
   "source": [
    "t1 2\n",
    "type t1 2"
   ]
  },
  {
   "cell_type": "markdown",
   "metadata": {
    "hidden": true,
    "reveal": "912sq40vdam",
    "reveal-hidden": true
   },
   "source": [
    "* Extract the distinct items from t1"
   ]
  },
  {
   "cell_type": "code",
   "execution_count": null,
   "metadata": {
    "hidden": true,
    "reveal": "912sq40vdam",
    "scrolled": true
   },
   "outputs": [],
   "source": [
    "t1 \n",
    "distinct t1  //will return a table of the distinct rows in our data"
   ]
  },
  {
   "cell_type": "code",
   "execution_count": 82,
   "metadata": {
    "hidden": true,
    "scrolled": true
   },
   "outputs": [
    {
     "name": "stdout",
     "output_type": "stream",
     "text": [
      "sym price\n",
      "---------\n",
      "a   1    \n",
      "b   2    \n",
      "c   3    \n",
      "d   4    \n",
      "c   8    \n",
      "d   9    \n",
      "e   5    \n",
      "g   7    \n"
     ]
    }
   ],
   "source": [
    "distinct t1"
   ]
  },
  {
   "cell_type": "markdown",
   "metadata": {
    "hidden": true,
    "reveal": "b720bj7asyh",
    "reveal-hidden": true
   },
   "source": [
    "* Using the distinct items from `t1` as defined above, create `t2` which is `t1` with an additional column, size. Size should be of type int and can be calculated as `100*1+(index in list)`"
   ]
  },
  {
   "cell_type": "code",
   "execution_count": null,
   "metadata": {
    "hidden": true,
    "reveal": "b720bj7asyh",
    "scrolled": true
   },
   "outputs": [],
   "source": [
    "show t2: distinct t1\n",
    "t2[`size]: `int$100*1+til count distinct t1\n",
    "meta t2\n",
    "t2"
   ]
  },
  {
   "cell_type": "code",
   "execution_count": 87,
   "metadata": {
    "hidden": true,
    "scrolled": true
   },
   "outputs": [
    {
     "name": "stdout",
     "output_type": "stream",
     "text": [
      "sym price size\n",
      "--------------\n",
      "a   1     100 \n",
      "b   2     200 \n",
      "c   3     300 \n",
      "d   4     400 \n",
      "c   8     500 \n",
      "d   9     600 \n",
      "e   5     700 \n",
      "g   7     800 \n"
     ]
    }
   ],
   "source": [
    "t2:distinct t1\n",
    "t2[`size]:`int$100*1+til count t2\n",
    "t2"
   ]
  },
  {
   "cell_type": "markdown",
   "metadata": {
    "hidden": true,
    "reveal": "b42i67fofsf",
    "reveal-hidden": false
   },
   "source": [
    "* Run the code:\n",
    "\n",
    "    <code>t2 upsert flip (\\`a\\`g;1 2;3 5)</code>\n",
    "    \n",
    "    Why does it fail?"
   ]
  },
  {
   "cell_type": "markdown",
   "metadata": {
    "hidden": true,
    "reveal": "b42i67fofsf"
   },
   "source": [
    "The numbers in the new rows are longs by default, size and price columns are int and float"
   ]
  },
  {
   "cell_type": "code",
   "execution_count": 89,
   "metadata": {
    "hidden": true,
    "reveal": "b42i67fofsf",
    "scrolled": true
   },
   "outputs": [
    {
     "name": "stdout",
     "output_type": "stream",
     "text": [
      "`a 1 3\n",
      "`g 2 5\n"
     ]
    },
    {
     "ename": "QError",
     "evalue": "type",
     "output_type": "error",
     "traceback": [
      "\u001b[0;31m---------------------------------------------------------------------------\u001b[0m",
      "\u001b[0;31mQError\u001b[0m                                    Traceback (most recent call last)",
      "Cell \u001b[0;32mIn[89], line 1\u001b[0m\n\u001b[0;32m----> 1\u001b[0m \u001b[43mget_ipython\u001b[49m\u001b[43m(\u001b[49m\u001b[43m)\u001b[49m\u001b[38;5;241;43m.\u001b[39;49m\u001b[43mrun_cell_magic\u001b[49m\u001b[43m(\u001b[49m\u001b[38;5;124;43m'\u001b[39;49m\u001b[38;5;124;43mq\u001b[39;49m\u001b[38;5;124;43m'\u001b[39;49m\u001b[43m,\u001b[49m\u001b[43m \u001b[49m\u001b[38;5;124;43m'\u001b[39;49m\u001b[38;5;124;43m'\u001b[39;49m\u001b[43m,\u001b[49m\u001b[43m \u001b[49m\u001b[38;5;124;43m'\u001b[39;49m\u001b[38;5;124;43mflip (`a`g;1 2; 3 5)             //we are using flip here to format the data as rows\u001b[39;49m\u001b[38;5;130;43;01m\\n\u001b[39;49;00m\u001b[38;5;124;43mt2 upsert flip (`a`g;1 2; 3 5)   //we get a type error \u001b[39;49m\u001b[38;5;130;43;01m\\n\u001b[39;49;00m\u001b[38;5;124;43m'\u001b[39;49m\u001b[43m)\u001b[49m\n",
      "File \u001b[0;32m/opt/conda/lib/python3.11/site-packages/IPython/core/interactiveshell.py:2541\u001b[0m, in \u001b[0;36mInteractiveShell.run_cell_magic\u001b[0;34m(self, magic_name, line, cell)\u001b[0m\n\u001b[1;32m   2539\u001b[0m \u001b[38;5;28;01mwith\u001b[39;00m \u001b[38;5;28mself\u001b[39m\u001b[38;5;241m.\u001b[39mbuiltin_trap:\n\u001b[1;32m   2540\u001b[0m     args \u001b[38;5;241m=\u001b[39m (magic_arg_s, cell)\n\u001b[0;32m-> 2541\u001b[0m     result \u001b[38;5;241m=\u001b[39m \u001b[43mfn\u001b[49m\u001b[43m(\u001b[49m\u001b[38;5;241;43m*\u001b[39;49m\u001b[43margs\u001b[49m\u001b[43m,\u001b[49m\u001b[43m \u001b[49m\u001b[38;5;241;43m*\u001b[39;49m\u001b[38;5;241;43m*\u001b[39;49m\u001b[43mkwargs\u001b[49m\u001b[43m)\u001b[49m\n\u001b[1;32m   2543\u001b[0m \u001b[38;5;66;03m# The code below prevents the output from being displayed\u001b[39;00m\n\u001b[1;32m   2544\u001b[0m \u001b[38;5;66;03m# when using magics with decorator @output_can_be_silenced\u001b[39;00m\n\u001b[1;32m   2545\u001b[0m \u001b[38;5;66;03m# when the last Python token in the expression is a ';'.\u001b[39;00m\n\u001b[1;32m   2546\u001b[0m \u001b[38;5;28;01mif\u001b[39;00m \u001b[38;5;28mgetattr\u001b[39m(fn, magic\u001b[38;5;241m.\u001b[39mMAGIC_OUTPUT_CAN_BE_SILENCED, \u001b[38;5;28;01mFalse\u001b[39;00m):\n",
      "File \u001b[0;32m/opt/conda/lib/python3.11/site-packages/pykx/nbextension.py:181\u001b[0m, in \u001b[0;36mq\u001b[0;34m(instructions, code)\u001b[0m\n\u001b[1;32m    179\u001b[0m     \u001b[38;5;28;01mif\u001b[39;00m save:\n\u001b[1;32m    180\u001b[0m         \u001b[38;5;28mprint\u001b[39m(\u001b[38;5;124mf\u001b[39m\u001b[38;5;124m\"\u001b[39m\u001b[38;5;124mCell contents not saved to \u001b[39m\u001b[38;5;124m'\u001b[39m\u001b[38;5;132;01m{\u001b[39;00mpath\u001b[38;5;132;01m}\u001b[39;00m\u001b[38;5;124m'\u001b[39m\u001b[38;5;124m due to error during execution/saving.\u001b[39m\u001b[38;5;124m\"\u001b[39m)\n\u001b[0;32m--> 181\u001b[0m     \u001b[38;5;28;01mraise\u001b[39;00m e\n\u001b[1;32m    182\u001b[0m \u001b[38;5;28;01mfinally\u001b[39;00m:\n\u001b[1;32m    183\u001b[0m     \u001b[38;5;28;01mif\u001b[39;00m \u001b[38;5;28missubclass\u001b[39m(\u001b[38;5;28mtype\u001b[39m(_q), kx\u001b[38;5;241m.\u001b[39mQConnection):\n",
      "File \u001b[0;32m/opt/conda/lib/python3.11/site-packages/pykx/nbextension.py:169\u001b[0m, in \u001b[0;36mq\u001b[0;34m(instructions, code)\u001b[0m\n\u001b[1;32m    167\u001b[0m     \u001b[38;5;28;01mif\u001b[39;00m debug \u001b[38;5;129;01mor\u001b[39;00m kx\u001b[38;5;241m.\u001b[39mconfig\u001b[38;5;241m.\u001b[39mpykx_qdebug:\n\u001b[1;32m    168\u001b[0m         \u001b[38;5;28mprint\u001b[39m(r[\u001b[38;5;124m'\u001b[39m\u001b[38;5;124mtrc\u001b[39m\u001b[38;5;124m'\u001b[39m])\n\u001b[0;32m--> 169\u001b[0m     \u001b[38;5;28;01mraise\u001b[39;00m kx\u001b[38;5;241m.\u001b[39mQError(r[\u001b[38;5;124m'\u001b[39m\u001b[38;5;124mres\u001b[39m\u001b[38;5;124m'\u001b[39m]\u001b[38;5;241m.\u001b[39mpy()\u001b[38;5;241m.\u001b[39mdecode())\n\u001b[1;32m    170\u001b[0m \u001b[38;5;28;01melse\u001b[39;00m:\n\u001b[1;32m    171\u001b[0m     display(r[\u001b[38;5;124m'\u001b[39m\u001b[38;5;124mres\u001b[39m\u001b[38;5;124m'\u001b[39m]) \u001b[38;5;28;01mif\u001b[39;00m displayRet \u001b[38;5;28;01melse\u001b[39;00m \u001b[38;5;28mprint\u001b[39m(r[\u001b[38;5;124m'\u001b[39m\u001b[38;5;124mres\u001b[39m\u001b[38;5;124m'\u001b[39m])\n",
      "\u001b[0;31mQError\u001b[0m: type"
     ]
    }
   ],
   "source": [
    "flip (`a`g;1 2; 3 5)             //we are using flip here to format the data as rows\n",
    "t2 upsert flip (`a`g;1 2; 3 5)   //we get a type error "
   ]
  },
  {
   "cell_type": "code",
   "execution_count": 90,
   "metadata": {
    "hidden": true,
    "reveal": "b42i67fofsf",
    "scrolled": true
   },
   "outputs": [
    {
     "name": "stdout",
     "output_type": "stream",
     "text": [
      "c     t f a newDataTypes\n",
      "------------------------\n",
      "sym   s     11          \n",
      "price f     7           \n",
      "size  i     7           \n",
      "c     t f a\n",
      "-----------\n",
      "sym   s    \n",
      "price f    \n",
      "size  i    \n"
     ]
    }
   ],
   "source": [
    "//first step - check our types! \n",
    "show tabTypes:0!meta t2                           //unkeying so we can add a new column using dictionary notation\n",
    "tabTypes[`newDataTypes]:type each (`a`g;1 2; 3 5) //checking the type of each of our new data\n",
    "tabTypes                                          //can see a disagreement between the type of size"
   ]
  },
  {
   "cell_type": "code",
   "execution_count": 94,
   "metadata": {
    "hidden": true,
    "scrolled": true
   },
   "outputs": [
    {
     "name": "stdout",
     "output_type": "stream",
     "text": [
      "-6 -6h\n"
     ]
    }
   ],
   "source": []
  },
  {
   "cell_type": "markdown",
   "metadata": {
    "hidden": true,
    "reveal": "s58v1ddemw",
    "reveal-hidden": true
   },
   "source": [
    "* Correct the code so that it works without an error."
   ]
  },
  {
   "cell_type": "code",
   "execution_count": null,
   "metadata": {
    "hidden": true,
    "reveal": "s58v1ddemw",
    "scrolled": true
   },
   "outputs": [],
   "source": [
    "t2 upsert flip (`a`g;1 2f;3 5)"
   ]
  },
  {
   "cell_type": "code",
   "execution_count": 98,
   "metadata": {
    "hidden": true,
    "scrolled": true
   },
   "outputs": [
    {
     "name": "stdout",
     "output_type": "stream",
     "text": [
      "sym price size\n",
      "--------------\n",
      "a   1     100 \n",
      "b   2     200 \n",
      "c   3     300 \n",
      "d   4     400 \n",
      "c   8     500 \n",
      "d   9     600 \n",
      "e   5     700 \n",
      "g   7     800 \n",
      "a   1     3   \n",
      "g   2     5   \n"
     ]
    }
   ],
   "source": [
    "t2 upsert flip (`a`g;1 2f;`int$3 5)"
   ]
  },
  {
   "cell_type": "markdown",
   "metadata": {
    "heading_collapsed": true,
    "hidden": true
   },
   "source": [
    "### Keyed Tables"
   ]
  },
  {
   "cell_type": "markdown",
   "metadata": {
    "hidden": true,
    "reveal": "ish4q42kgks",
    "reveal-hidden": true
   },
   "source": [
    "* Add the following new rows to the keyed `tradeKey` table\n",
    "\n",
    "\n",
    "    id   | sym   price   size     side\n",
    "    -----| -----------------------------\n",
    "    1011 | `BP    81      111     `B\n",
    "    1012 | `JPM   65      156     `B"
   ]
  },
  {
   "cell_type": "code",
   "execution_count": null,
   "metadata": {
    "hidden": true,
    "reveal": "ish4q42kgks",
    "scrolled": true
   },
   "outputs": [],
   "source": [
    "`tradeKey insert flip `id`sym`price`size`side!(1011 1012;`BP`JPM;81 65;111 156;`B`B)\n",
    "//or \n",
    "`tradeKey upsert flip `id`sym`price`size`side!(1011 1012;`BP`JPM;81 65;111 156;`B`B)"
   ]
  },
  {
   "cell_type": "code",
   "execution_count": 117,
   "metadata": {
    "hidden": true,
    "scrolled": true
   },
   "outputs": [
    {
     "name": "stdout",
     "output_type": "stream",
     "text": [
      "id  | sym price size side\n",
      "----| -------------------\n",
      "1001| IBM 79    117  B   \n",
      "1002| GE  88    123  S   \n",
      "1003| JPM 83    112  B   \n",
      "1004| BP  74    166  S   \n",
      "1005| JPM 87    136  B   \n",
      "1006| BP  54    137  S   \n",
      "1007| JPM 95    144  B   \n",
      "1008| ASD 91    128  B   \n",
      "1009| JPM 52    120  B   \n",
      "1010| IBM 89    130  B   \n",
      "1011| BP  81    111  B   \n",
      "1012| JPM 65    156  B   \n",
      "id  | sym price size side\n",
      "----| -------------------\n",
      "1001| IBM 79    117  B   \n",
      "1002| GE  88    123  S   \n",
      "1003| JPM 83    112  B   \n",
      "1004| BP  74    166  S   \n",
      "1005| JPM 87    136  B   \n",
      "1006| BP  54    137  S   \n",
      "1007| JPM 95    144  B   \n",
      "1008| ASD 91    128  B   \n",
      "1009| JPM 52    120  B   \n",
      "1010| IBM 89    130  B   \n",
      "1011| BP  81    111  B   \n",
      "1012| JPM 65    156  B   \n",
      "10 11\n",
      "id  | sym price size side\n",
      "----| -------------------\n",
      "1001| IBM 79    117  B   \n",
      "1002| GE  88    123  S   \n",
      "1003| JPM 83    112  B   \n",
      "1004| BP  74    166  S   \n",
      "1005| JPM 87    136  B   \n",
      "1006| BP  54    137  S   \n",
      "1007| JPM 95    144  B   \n",
      "1008| ASD 91    128  B   \n",
      "1009| JPM 52    120  B   \n",
      "1010| IBM 89    130  B   \n",
      "1011| BP  81    111  B   \n",
      "1012| JPM 65    156  B   \n"
     ]
    }
   ],
   "source": [
    "tradeKey upsert ([] id:1011 1012; sym:`BP`JPM; price:81 65; size:111 156; side:`B`B)\n",
    "tradeKey upsert flip `id`sym`price`size`side!(1011 1012;`BP`JPM;81 65;111 156;`B`B )\n",
    "`tradeKey insert ([] id:1011 1012; sym:`BP`JPM; price:81 65; size:111 156; side:`B`B)\n",
    "tradeKey"
   ]
  },
  {
   "cell_type": "markdown",
   "metadata": {
    "hidden": true,
    "reveal": "z9isho0lys9",
    "reveal-hidden": true
   },
   "source": [
    "* Update the information for `tradeKey` id `1001` to the following:\n",
    "\n",
    "\n",
    "    id   | sym   price   size     side\n",
    "    -----| -----------------------------\n",
    "    1001 | `BP    85      115     `B"
   ]
  },
  {
   "cell_type": "code",
   "execution_count": null,
   "metadata": {
    "hidden": true,
    "reveal": "z9isho0lys9",
    "scrolled": true
   },
   "outputs": [],
   "source": [
    "`tradeKey upsert(1001;`BP;85;115;`B)"
   ]
  },
  {
   "cell_type": "code",
   "execution_count": 126,
   "metadata": {
    "hidden": true,
    "scrolled": true
   },
   "outputs": [
    {
     "name": "stdout",
     "output_type": "stream",
     "text": [
      "tradeKey\n"
     ]
    }
   ],
   "source": [
    "tradeKey[1001]:`sym`price`size`side!(`BP;  85;  115; `B)\n",
    "`tradeKey upsert (1001;`BP;85;115;`B)"
   ]
  },
  {
   "cell_type": "markdown",
   "metadata": {
    "heading_collapsed": true
   },
   "source": [
    "## Functions"
   ]
  },
  {
   "cell_type": "markdown",
   "metadata": {
    "hidden": true,
    "reveal": "th4fsz1mz0t",
    "reveal-hidden": true
   },
   "source": [
    "* Create a function `returnKeyedTable` which takes as input:<br> \n",
    "\n",
    "\n",
    "    - t  - table name (as symbol)\n",
    "    - k - key(s) to key on\n",
    "\n",
    "Returns the specified table keyed on k -  the underlying table should not be changed\n",
    "\n",
    "Example of Code\n",
    "    \n",
    "    returnKeyedTable[`trade;`sym]                                        // returns a keys version of the table\n",
    "    sym| time                          size price side exchange\n",
    "    ---| ------------------------------------------------------\n",
    "    GE | 2016.04.22D15:02:31.169380000 150  1025  B    N\n",
    "    BP | 2016.04.22D15:02:31.169380000 210  1050  S    L\n",
    "\n",
    "    trade                                                                // but doesn't alter the underlying table \n",
    "    time                          sym size price side exchange\n",
    "    ----------------------------------------------------------\n",
    "    2016.04.22D15:02:31.169380000 GE  150  1025  B    N\n",
    "    2016.04.22D15:02:31.169380000 BP  210  1050  S    L"
   ]
  },
  {
   "cell_type": "code",
   "execution_count": null,
   "metadata": {
    "hidden": true,
    "reveal": "th4fsz1mz0t"
   },
   "outputs": [],
   "source": [
    "returnKeyedTable:{[t;k]k xkey get t}"
   ]
  },
  {
   "cell_type": "code",
   "execution_count": 127,
   "metadata": {
    "hidden": true
   },
   "outputs": [],
   "source": [
    "returnKeyedTable:{table: select from x; y xkey table}"
   ]
  },
  {
   "cell_type": "markdown",
   "metadata": {
    "hidden": true
   },
   "source": [
    "Test your function using the code below"
   ]
  },
  {
   "cell_type": "code",
   "execution_count": 129,
   "metadata": {
    "hidden": true
   },
   "outputs": [
    {
     "name": "stdout",
     "output_type": "stream",
     "text": [
      "sym| time                          size prize side exchange\n",
      "---| ------------------------------------------------------\n",
      "GE | 2016.04.22D15:02:31.169380000 150  1025  B    N       \n",
      "BP | 2016.04.22D15:02:31.169380000 210  1050  S    L       \n",
      "time                          sym size prize side exchange\n",
      "----------------------------------------------------------\n",
      "2016.04.22D15:02:31.169380000 GE  150  1025  B    N       \n",
      "2016.04.22D15:02:31.169380000 BP  210  1050  S    L       \n"
     ]
    }
   ],
   "source": [
    "trade:flip`time`sym`size`prize`side`exchange!(2#2016.04.22D15:02:31.169380000;`GE`BP;150 210;1025 1050;`B`S;`N`L)\n",
    "returnKeyedTable[`trade;`sym] \n",
    "trade"
   ]
  },
  {
   "cell_type": "markdown",
   "metadata": {
    "hidden": true,
    "reveal": "t85fbm7yt79",
    "reveal-hidden": true
   },
   "source": [
    "* Create a function `applyKeyToTable` which takes as input:<br> \n",
    "\n",
    "\n",
    "    - t  - table name (as symbol)\n",
    "    - k - key(s) to key on. If this list is empty, the table should be unkeyed\n",
    "\n",
    "Returns the name of the table. The underlying table should be keyed / unkeyed as per the supplied argument\n",
    "\n",
    "Example of Code\n",
    "    \n",
    "    applyKeyToTable[`trade;`sym]\t\t\t\t\t          // alters the underlying table and just returns the table name\n",
    "    `trade\n",
    "\n",
    "    trade\n",
    "    sym| time                          size price side exchange\n",
    "    ---| ------------------------------------------------------\n",
    "    GE | 2016.04.22D15:02:31.169380000 150  1025  B    N\n",
    "    BP | 2016.04.22D15:02:31.169380000 210  1050  S    L"
   ]
  },
  {
   "cell_type": "code",
   "execution_count": null,
   "metadata": {
    "hidden": true,
    "reveal": "t85fbm7yt79"
   },
   "outputs": [],
   "source": [
    "applyKeyToTable:{[t;k]k xkey t}"
   ]
  },
  {
   "cell_type": "code",
   "execution_count": 144,
   "metadata": {
    "hidden": true
   },
   "outputs": [
    {
     "name": "stdout",
     "output_type": "stream",
     "text": [
      "sym| time                          size prize side exchange\n",
      "---| ------------------------------------------------------\n",
      "GE | 2016.04.22D15:02:31.169380000 150  1025  B    N       \n",
      "BP | 2016.04.22D15:02:31.169380000 210  1050  S    L       \n",
      "sym time                          size prize side exchange\n",
      "----------------------------------------------------------\n",
      "GE  2016.04.22D15:02:31.169380000 150  1025  B    N       \n",
      "BP  2016.04.22D15:02:31.169380000 210  1050  S    L       \n"
     ]
    }
   ],
   "source": [
    "applyKeyToTable:{y xkey x}\n",
    "tab2:trade\n",
    "get applyKeyToTable[`tab2;`sym]\n",
    "get applyKeyToTable[`tab2;()]\n"
   ]
  },
  {
   "cell_type": "markdown",
   "metadata": {
    "hidden": true
   },
   "source": [
    "Test your function using the code below"
   ]
  },
  {
   "cell_type": "code",
   "execution_count": 145,
   "metadata": {
    "hidden": true
   },
   "outputs": [
    {
     "name": "stdout",
     "output_type": "stream",
     "text": [
      "trade\n",
      "sym| time                          size prize side exchange\n",
      "---| ------------------------------------------------------\n",
      "GE | 2016.04.22D15:02:31.169380000 150  1025  B    N       \n",
      "BP | 2016.04.22D15:02:31.169380000 210  1050  S    L       \n"
     ]
    }
   ],
   "source": [
    "applyKeyToTable[`trade;`sym] \n",
    "trade //should change"
   ]
  },
  {
   "cell_type": "markdown",
   "metadata": {
    "hidden": true,
    "reveal": "hp8qmbjef2",
    "reveal-hidden": true
   },
   "source": [
    "* For the next function, we will create a table `randomTable` with 20 rows and the following columns: \n",
    "     * sym - random selection from <code>\\`AAPL\\`MSFT\\`FD\\`KX</code>\n",
    "     * time - random timestamp between midnight and the current time \n",
    "     * price - random decimal price between 20-40\n",
    "     * qty - random quantity between 100-1000\n"
   ]
  },
  {
   "cell_type": "code",
   "execution_count": null,
   "metadata": {
    "hidden": true,
    "reveal": "hp8qmbjef2",
    "scrolled": true
   },
   "outputs": [],
   "source": [
    "rows:20;\n",
    "randomTable:([] sym: rows?`AAPL`MSFT`FD`KX;\n",
    "                time: .z.d + rows?.z.t; \n",
    "                price: 20+rows?20f;\n",
    "                qty:100+rows?901 )\n",
    "randomTable"
   ]
  },
  {
   "cell_type": "code",
   "execution_count": 152,
   "metadata": {
    "hidden": true,
    "scrolled": true
   },
   "outputs": [
    {
     "name": "stdout",
     "output_type": "stream",
     "text": [
      "sym  time                          price    qty\n",
      "-----------------------------------------------\n",
      "AAPL 2025.02.27D02:02:16.027000000 39.67777 511\n",
      "AAPL 2025.02.27D04:18:39.298000000 31.14746 856\n",
      "FD   2025.02.27D15:14:46.694000000 21.58361 197\n",
      "KX   2025.02.27D05:24:21.691000000 28.81202 496\n",
      "MSFT 2025.02.27D07:30:15.144000000 29.89813 488\n",
      "AAPL 2025.02.27D10:30:25.569000000 26.76821 514\n",
      "FD   2025.02.27D13:51:58.862000000 38.74355 948\n",
      "MSFT 2025.02.27D18:34:50.225000000 24.3629  376\n",
      "KX   2025.02.27D19:10:54.154000000 38.6665  996\n",
      "FD   2025.02.27D19:02:17.036000000 39.93133 956\n",
      "MSFT 2025.02.27D20:02:58.926000000 20.78783 361\n",
      "KX   2025.02.27D07:53:09.750000000 30.19758 886\n",
      "MSFT 2025.02.27D03:15:37.557000000 29.92655 415\n",
      "KX   2025.02.27D18:14:27.656000000 36.77981 767\n",
      "AAPL 2025.02.27D15:49:56.061000000 37.47702 455\n",
      "KX   2025.02.27D15:34:39.159000000 29.53021 689\n",
      "FD   2025.02.27D07:34:38.275000000 25.512   962\n",
      "FD   2025.02.27D04:45:17.225000000 30.36307 863\n",
      "KX   2025.02.27D14:22:48.154000000 27.45892 232\n",
      "FD   2025.02.27D11:17:49.460000000 30.26992 738\n"
     ]
    }
   ],
   "source": [
    "n:20\n",
    "show randomTable:([] sym:n?`AAPL`MSFT`FD`KX; time:.z.d + n?.z.t; price:20+n?20f; qty:100+n?901)"
   ]
  },
  {
   "cell_type": "markdown",
   "metadata": {
    "hidden": true,
    "reveal": "vqathi663of",
    "reveal-hidden": true
   },
   "source": [
    "* Create function `appendData` that takes as an input `randomTable`, either as a table value, or as a symbol and a list of data in dictionary format and returns randomTable with the data appended. Run the function with the following dictionary as input - <code>\\`sym\\`time\\`price\\`qty!(\\`KX\\`FD;2#.z.p;54.4 52.1;300 300)</code>. \n",
    "\n",
    "This should not affect the global randomTable. "
   ]
  },
  {
   "cell_type": "code",
   "execution_count": null,
   "metadata": {
    "hidden": true,
    "reveal": "vqathi663of"
   },
   "outputs": [],
   "source": [
    "randomTable\n",
    "data:`sym`time`price`qty!(`KX`FD;2#.z.p;54.4 52.1;300 300)"
   ]
  },
  {
   "cell_type": "code",
   "execution_count": null,
   "metadata": {
    "hidden": true,
    "reveal": "vqathi663of"
   },
   "outputs": [],
   "source": [
    "appendData:{[tab;dataDict] if[-11h~type tab;tab:get tab]; //if passed by reference (i.e. sym) get it's value\n",
    "                    tab upsert flip dataDict}             //can't use insert, as we don't want to persist\n",
    "//                  tab,flip dataDict}                    //could use this either"
   ]
  },
  {
   "cell_type": "code",
   "execution_count": null,
   "metadata": {
    "hidden": true,
    "reveal": "vqathi663of"
   },
   "outputs": [],
   "source": [
    "appendData[`randomTable;data]\n",
    "appendData[randomTable;data]"
   ]
  },
  {
   "cell_type": "code",
   "execution_count": 173,
   "metadata": {
    "hidden": true
   },
   "outputs": [
    {
     "name": "stdout",
     "output_type": "stream",
     "text": [
      "1b\n",
      "sym time                          price qty\n",
      "-------------------------------------------\n",
      "KX  2025.02.27D21:11:13.329039098 54.4  300\n",
      "FD  2025.02.27D21:11:13.329039098 52.1  300\n"
     ]
    }
   ],
   "source": [
    "appendData:{\n",
    "    tab:select from x;\n",
    "    tab upsert flip y\n",
    " }\n",
    "to_add:`sym`time`price`qty!(`KX`FD;2#.z.p;54.4 52.1;300 300)\n",
    "appendData[randomTable;to_add] ~ tab:appendData[`randomTable;to_add]\n",
    "-2#tab"
   ]
  },
  {
   "cell_type": "markdown",
   "metadata": {
    "hidden": true,
    "reveal": "mqngjulzz9a",
    "reveal-hidden": true
   },
   "source": [
    "* Define the following two tables with the corresponding columns and types:\n",
    "\n",
    "**trade**\n",
    "\n",
    "* time (timestamp)\n",
    "* sym (symbol)\n",
    "* size (long)\n",
    "* price (long)\n",
    "* side (symbol)\n",
    "* exchange (symbol)\n",
    "\n",
    "**quote**\n",
    "\n",
    "* time (timestamp)\n",
    "* sym (symbol)\n",
    "* bid (long)\n",
    "* ask (long)\n",
    "* bidSize (long)\n",
    "* askSize (long)\n",
    "* exchange (symbol)\n",
    "\n",
    "Define a variable **BATCH** and assign it the value `1b` (true)"
   ]
  },
  {
   "cell_type": "code",
   "execution_count": null,
   "metadata": {
    "hidden": true,
    "reveal": "mqngjulzz9a"
   },
   "outputs": [],
   "source": [
    "trade:([]time:`timestamp$();sym:`$();size:`long$();price:`long$();side:`$();exchange:`$());\n",
    "quote:([]time:`timestamp$();sym:`$();bid:`long$();ask:`long$();bidSize:`long$();askSize:`long$();exchange:`$());\n",
    "BATCH:1b"
   ]
  },
  {
   "cell_type": "code",
   "execution_count": 236,
   "metadata": {
    "hidden": true
   },
   "outputs": [
    {
     "name": "stdout",
     "output_type": "stream",
     "text": [
      "c       | t f a\n",
      "--------| -----\n",
      "time    | p    \n",
      "sym     | s    \n",
      "size    | j    \n",
      "price   | j    \n",
      "side    | s    \n",
      "exchange| s    \n",
      "c       | t f a\n",
      "--------| -----\n",
      "time    | p    \n",
      "sym     | s    \n",
      "bid     | j    \n",
      "ask     | j    \n",
      "bidSize | j    \n",
      "askSize | j    \n",
      "exchange| s    \n"
     ]
    }
   ],
   "source": [
    "trade:([] time:`timestamp$(); sym:`symbol$(); size:`long$(); price:`long$(); side:`symbol$(); exchange:`symbol$());\n",
    "quote:([] time:`timestamp$(); sym:`symbol$(); bid:`long$(); ask:`long$(); bidSize:`long$(); askSize:`long$(); exchange:`symbol$());\n",
    "BATCH:1b;\n",
    "meta trade\n",
    "meta quote"
   ]
  },
  {
   "cell_type": "markdown",
   "metadata": {
    "hidden": true,
    "reveal": "p2c505h5rn8",
    "reveal-hidden": false
   },
   "source": [
    "* Create a function `upd` which takes as input:<br> \n",
    "    * t - the name of a table (a symbol) e.g. `trade` or `quote`\n",
    "    * d - the data - this should  be a list, where each item in the list is an atom or list itself corresponding to the columns in the associated table (`trade` or `quote`)\n",
    "\n",
    "**The function should (if BATCH is true):**\n",
    "    - insert the data into the appropriate table\n",
    "    - return the indices that the records were inserted at (e.g. 0 1 for the first 2 records inserted)\n",
    "\n",
    "**The function should (if BATCH is false):**\n",
    "    - not insert anything into the trade or quote tables\n",
    "    - return a table populated with the data that was passed in\n",
    "\n",
    "**If everything has been defined correctly, the following code snippets should all match examples**\n",
    "\n",
    "Example of Code:\n",
    "\n",
    "    BATCH:0b\t\t\t\t\t\t\t\t\t\t\t\t\t\t\t\t// start by testing in non-batch mode\n",
    "    upd[`trade;(2#.z.P;`ASD`IBM;300 400;4000 6000;`O`P;`N`D)]\t\t\t   // test with two records\n",
    "    time                          sym size price side exchange\t\t\t  // copy of table returned\n",
    "    ----------------------------------------------------------\n",
    "    2016.03.19D12:17:50.871658000 ASD 300  4000  O    N\n",
    "    2016.03.19D12:17:50.871658000 IBM 400  6000  P    D\n",
    "    \n",
    "    trade\t\t\t\t\t\t\t\t\t\t\t\t\t\t\t\t    // underlying table should be unchanged\n",
    "    time sym size price side exchange\n",
    "    ---------------------------------"
   ]
  },
  {
   "cell_type": "code",
   "execution_count": 250,
   "metadata": {
    "hidden": true,
    "reveal": "p2c505h5rn8"
   },
   "outputs": [
    {
     "name": "stdout",
     "output_type": "stream",
     "text": [
      "-12 -11 -7 -7 -7 -7 -11h\n",
      "12 11 7 7 7 7 11h\n",
      "2025.02.27D21:33:00.022836312 2025.02.27D21:33:00.022836312\n",
      "ASD                           IBM                          \n",
      "300                           400                          \n",
      "4000                          6000                         \n",
      "O                             P                            \n",
      "N                             D                            \n"
     ]
    }
   ],
   "source": [
    "upd:{[t;d]$[BATCH;t insert d;get[t]upsert flip(),/:d]}"
   ]
  },
  {
   "cell_type": "code",
   "execution_count": 239,
   "metadata": {
    "hidden": true
   },
   "outputs": [],
   "source": [
    "upd:{[tabname;data]\n",
    "    if[BATCH;:tabname insert data];\n",
    "    if[0>type first data;data:enlist each data];\n",
    "    (get tabname) upsert flip data\n",
    " };"
   ]
  },
  {
   "cell_type": "code",
   "execution_count": null,
   "metadata": {},
   "outputs": [],
   "source": []
  },
  {
   "cell_type": "markdown",
   "metadata": {
    "hidden": true
   },
   "source": [
    "Test your function using the code below"
   ]
  },
  {
   "cell_type": "code",
   "execution_count": 240,
   "metadata": {
    "hidden": true
   },
   "outputs": [
    {
     "name": "stdout",
     "output_type": "stream",
     "text": [
      "time sym size price side exchange\n",
      "---------------------------------\n",
      "time                          sym size price side exchange\n",
      "----------------------------------------------------------\n",
      "2025.02.27D21:31:24.406700671 ASD 300  4000  O    N       \n",
      "2025.02.27D21:31:24.406700671 IBM 400  6000  P    D       \n",
      "time sym size price side exchange\n",
      "---------------------------------\n"
     ]
    }
   ],
   "source": [
    "BATCH:0b\n",
    "trade\n",
    "upd[`trade;(2#.z.P;`ASD`IBM;300 400;4000 6000;`O`P;`N`D)]  // test with two records\n",
    "trade                                                      // underlying table should be unchanged"
   ]
  },
  {
   "cell_type": "code",
   "execution_count": null,
   "metadata": {},
   "outputs": [],
   "source": []
  },
  {
   "cell_type": "code",
   "execution_count": 241,
   "metadata": {
    "hidden": true
   },
   "outputs": [
    {
     "name": "stdout",
     "output_type": "stream",
     "text": [
      "time sym bid ask bidSize askSize exchange\n",
      "-----------------------------------------\n",
      "time                          sym  bid ask bidSize askSize exchange\n",
      "-------------------------------------------------------------------\n",
      "2025.02.27D21:31:26.641038613 MSFT 745 755 100     200     T       \n",
      "time sym bid ask bidSize askSize exchange\n",
      "-----------------------------------------\n"
     ]
    }
   ],
   "source": [
    "BATCH:0b\n",
    "quote\n",
    "upd[`quote;(.z.P;`MSFT;745;755;100;200;`T)]                // should work with a single row also\n",
    "quote  "
   ]
  },
  {
   "cell_type": "code",
   "execution_count": 242,
   "metadata": {
    "hidden": true
   },
   "outputs": [
    {
     "name": "stdout",
     "output_type": "stream",
     "text": [
      ",0\n",
      "time                          sym  bid ask bidSize askSize exchange\n",
      "-------------------------------------------------------------------\n",
      "2025.02.27D21:31:29.165748159 APPL 15  20  190     650     T       \n"
     ]
    }
   ],
   "source": [
    "BATCH:1b                                                   // Batch mode on\n",
    "upd[`quote;(.z.P;`APPL;15;20;190;650;`T)]                  // indices returned\n",
    "quote  "
   ]
  },
  {
   "cell_type": "code",
   "execution_count": 243,
   "metadata": {
    "hidden": true
   },
   "outputs": [
    {
     "name": "stdout",
     "output_type": "stream",
     "text": [
      ",1\n",
      "time                          sym  bid ask  bidSize askSize exchange\n",
      "--------------------------------------------------------------------\n",
      "2025.02.27D21:31:29.165748159 APPL 15  20   190     650     T       \n",
      "2025.02.27D21:31:31.187079501 SHL  945 1055 200     250     X       \n"
     ]
    }
   ],
   "source": [
    "upd[`quote;(.z.P;`SHL;945;1055;200;250;`X)]\n",
    "quote  "
   ]
  },
  {
   "cell_type": "code",
   "execution_count": 244,
   "metadata": {
    "hidden": true
   },
   "outputs": [
    {
     "name": "stdout",
     "output_type": "stream",
     "text": [
      "0 1\n",
      "time                          sym size price side exchange\n",
      "----------------------------------------------------------\n",
      "2025.02.27D21:31:33.766117367 ASD 300  4000  O    N       \n",
      "2025.02.27D21:31:33.766117367 IBM 400  6000  P    D       \n"
     ]
    }
   ],
   "source": [
    "upd[`trade;(2#.z.P;`ASD`IBM;300 400;4000 6000;`O`P;`N`D)]\n",
    "trade"
   ]
  },
  {
   "cell_type": "code",
   "execution_count": null,
   "metadata": {
    "hidden": true
   },
   "outputs": [],
   "source": []
  }
 ],
 "metadata": {
  "kernelspec": {
   "display_name": "Python 3 (ipykernel)",
   "language": "python",
   "name": "python3"
  },
  "language_info": {
   "codemirror_mode": {
    "name": "ipython",
    "version": 3
   },
   "file_extension": ".py",
   "mimetype": "text/x-python",
   "name": "python",
   "nbconvert_exporter": "python",
   "pygments_lexer": "ipython3",
   "version": "3.11.10"
  },
  "toc": {
   "base_numbering": 1,
   "nav_menu": {},
   "number_sections": true,
   "sideBar": true,
   "skip_h1_title": false,
   "title_cell": "Table of Contents",
   "title_sidebar": "Contents",
   "toc_cell": false,
   "toc_position": {},
   "toc_section_display": true,
   "toc_window_display": false
  }
 },
 "nbformat": 4,
 "nbformat_minor": 4
}
