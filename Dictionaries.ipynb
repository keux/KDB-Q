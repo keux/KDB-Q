{
 "cells": [
  {
   "cell_type": "code",
   "execution_count": 1,
   "metadata": {
    "autorun": true,
    "editable": false,
    "jupyter": {
     "source_hidden": true
    },
    "tags": [
     "remove-cell"
    ]
   },
   "outputs": [],
   "source": [
    "#;.pykx.disableJupyter()"
   ]
  },
  {
   "cell_type": "code",
   "execution_count": 2,
   "metadata": {
    "autorun": true,
    "editable": false,
    "jupyter": {
     "source_hidden": true
    },
    "tags": [
     "remove-cell"
    ]
   },
   "outputs": [
    {
     "name": "stdout",
     "output_type": "stream",
     "text": [
      "PyKX now running in 'jupyter_qfirst' mode. All cells by default will be run as q code. \n",
      "Include '%%py' at the beginning of each cell to run as python code. \n"
     ]
    }
   ],
   "source": [
    "# https://code.kx.com/pykx/3.0/examples/jupyter-integration.html#q-first-mode\n",
    "import pykx as kx\n",
    "kx.util.jupyter_qfirst_enable()"
   ]
  },
  {
   "cell_type": "markdown",
   "metadata": {
    "heading_collapsed": true
   },
   "source": [
    "# Dictionaries\n",
    "\n",
    "**Learning Outcomes**\n",
    "\n",
    "To understand: \n",
    "* How to create a dictionary\n",
    "* How to use a dictionary\n",
    "* How to amend a dictionary\n",
    "* How to combine dictionaries"
   ]
  },
  {
   "cell_type": "markdown",
   "metadata": {
    "heading_collapsed": true
   },
   "source": [
    "# Introduction\n",
    "[Dictionaries](https://en.wikipedia.org/wiki/Associative_array) are a key-value data structure that associates a *key* with a *value*. Dictionaries in kdb+/q are created by making an association between two lists of equal length and provide the foundation for creating tables in kdb+. "
   ]
  },
  {
   "cell_type": "markdown",
   "metadata": {
    "heading_collapsed": true,
    "hidden": true
   },
   "source": [
    "## Dictionary decomposition\n",
    "Dictionaries are a first order datatype in kdb+/q with an associated value of `99h`. "
   ]
  },
  {
   "cell_type": "code",
   "execution_count": 4,
   "metadata": {
    "hidden": true
   },
   "outputs": [
    {
     "name": "stdout",
     "output_type": "stream",
     "text": [
      "a| 1\n",
      "b| 2\n",
      "99h\n",
      "`a`b\n",
      "1 2\n",
      "2\n"
     ]
    }
   ],
   "source": [
    "d: `a`b!1 2  //simple dictionary\n",
    "d\n",
    "type d            //type\n",
    "key d             //keys list \n",
    "value d           //value list \n",
    "count d           //how many associations we have"
   ]
  },
  {
   "cell_type": "markdown",
   "metadata": {
    "hidden": true
   },
   "source": [
    "Since dictionaries are first order datatypes, we can apply functions to them: "
   ]
  },
  {
   "cell_type": "code",
   "execution_count": 5,
   "metadata": {
    "hidden": true
   },
   "outputs": [
    {
     "name": "stdout",
     "output_type": "stream",
     "text": [
      "a| 1\n",
      "b| 2\n",
      "a| 4\n",
      "b| 5\n",
      "a| 0.6666667\n",
      "b| 1.333333\n",
      "a| 1\n",
      "b| 4\n"
     ]
    },
    {
     "ename": "QError",
     "evalue": "length",
     "output_type": "error",
     "traceback": [
      "\u001b[0;31m---------------------------------------------------------------------------\u001b[0m",
      "\u001b[0;31mQError\u001b[0m                                    Traceback (most recent call last)",
      "Cell \u001b[0;32mIn[5], line 1\u001b[0m\n\u001b[0;32m----> 1\u001b[0m \u001b[43mget_ipython\u001b[49m\u001b[43m(\u001b[49m\u001b[43m)\u001b[49m\u001b[38;5;241;43m.\u001b[39;49m\u001b[43mrun_cell_magic\u001b[49m\u001b[43m(\u001b[49m\u001b[38;5;124;43m'\u001b[39;49m\u001b[38;5;124;43mq\u001b[39;49m\u001b[38;5;124;43m'\u001b[39;49m\u001b[43m,\u001b[49m\u001b[43m \u001b[49m\u001b[38;5;124;43m'\u001b[39;49m\u001b[38;5;124;43m'\u001b[39;49m\u001b[43m,\u001b[49m\u001b[43m \u001b[49m\u001b[38;5;124;43m'\u001b[39;49m\u001b[38;5;124;43md\u001b[39;49m\u001b[38;5;130;43;01m\\n\u001b[39;49;00m\u001b[38;5;124;43md + 3\u001b[39;49m\u001b[38;5;130;43;01m\\n\u001b[39;49;00m\u001b[38;5;124;43md \u001b[39;49m\u001b[38;5;124;43m%\u001b[39;49m\u001b[38;5;124;43m 1.5  \u001b[39;49m\u001b[38;5;130;43;01m\\n\u001b[39;49;00m\u001b[38;5;124;43md * 1 2   //pairwise vector multiplication\u001b[39;49m\u001b[38;5;130;43;01m\\n\u001b[39;49;00m\u001b[38;5;124;43md * 1 2 3 //length error\u001b[39;49m\u001b[38;5;130;43;01m\\n\u001b[39;49;00m\u001b[38;5;124;43m'\u001b[39;49m\u001b[43m)\u001b[49m\n",
      "File \u001b[0;32m/opt/conda/lib/python3.11/site-packages/IPython/core/interactiveshell.py:2541\u001b[0m, in \u001b[0;36mInteractiveShell.run_cell_magic\u001b[0;34m(self, magic_name, line, cell)\u001b[0m\n\u001b[1;32m   2539\u001b[0m \u001b[38;5;28;01mwith\u001b[39;00m \u001b[38;5;28mself\u001b[39m\u001b[38;5;241m.\u001b[39mbuiltin_trap:\n\u001b[1;32m   2540\u001b[0m     args \u001b[38;5;241m=\u001b[39m (magic_arg_s, cell)\n\u001b[0;32m-> 2541\u001b[0m     result \u001b[38;5;241m=\u001b[39m \u001b[43mfn\u001b[49m\u001b[43m(\u001b[49m\u001b[38;5;241;43m*\u001b[39;49m\u001b[43margs\u001b[49m\u001b[43m,\u001b[49m\u001b[43m \u001b[49m\u001b[38;5;241;43m*\u001b[39;49m\u001b[38;5;241;43m*\u001b[39;49m\u001b[43mkwargs\u001b[49m\u001b[43m)\u001b[49m\n\u001b[1;32m   2543\u001b[0m \u001b[38;5;66;03m# The code below prevents the output from being displayed\u001b[39;00m\n\u001b[1;32m   2544\u001b[0m \u001b[38;5;66;03m# when using magics with decorator @output_can_be_silenced\u001b[39;00m\n\u001b[1;32m   2545\u001b[0m \u001b[38;5;66;03m# when the last Python token in the expression is a ';'.\u001b[39;00m\n\u001b[1;32m   2546\u001b[0m \u001b[38;5;28;01mif\u001b[39;00m \u001b[38;5;28mgetattr\u001b[39m(fn, magic\u001b[38;5;241m.\u001b[39mMAGIC_OUTPUT_CAN_BE_SILENCED, \u001b[38;5;28;01mFalse\u001b[39;00m):\n",
      "File \u001b[0;32m/opt/conda/lib/python3.11/site-packages/pykx/nbextension.py:181\u001b[0m, in \u001b[0;36mq\u001b[0;34m(instructions, code)\u001b[0m\n\u001b[1;32m    179\u001b[0m     \u001b[38;5;28;01mif\u001b[39;00m save:\n\u001b[1;32m    180\u001b[0m         \u001b[38;5;28mprint\u001b[39m(\u001b[38;5;124mf\u001b[39m\u001b[38;5;124m\"\u001b[39m\u001b[38;5;124mCell contents not saved to \u001b[39m\u001b[38;5;124m'\u001b[39m\u001b[38;5;132;01m{\u001b[39;00mpath\u001b[38;5;132;01m}\u001b[39;00m\u001b[38;5;124m'\u001b[39m\u001b[38;5;124m due to error during execution/saving.\u001b[39m\u001b[38;5;124m\"\u001b[39m)\n\u001b[0;32m--> 181\u001b[0m     \u001b[38;5;28;01mraise\u001b[39;00m e\n\u001b[1;32m    182\u001b[0m \u001b[38;5;28;01mfinally\u001b[39;00m:\n\u001b[1;32m    183\u001b[0m     \u001b[38;5;28;01mif\u001b[39;00m \u001b[38;5;28missubclass\u001b[39m(\u001b[38;5;28mtype\u001b[39m(_q), kx\u001b[38;5;241m.\u001b[39mQConnection):\n",
      "File \u001b[0;32m/opt/conda/lib/python3.11/site-packages/pykx/nbextension.py:169\u001b[0m, in \u001b[0;36mq\u001b[0;34m(instructions, code)\u001b[0m\n\u001b[1;32m    167\u001b[0m     \u001b[38;5;28;01mif\u001b[39;00m debug \u001b[38;5;129;01mor\u001b[39;00m kx\u001b[38;5;241m.\u001b[39mconfig\u001b[38;5;241m.\u001b[39mpykx_qdebug:\n\u001b[1;32m    168\u001b[0m         \u001b[38;5;28mprint\u001b[39m(r[\u001b[38;5;124m'\u001b[39m\u001b[38;5;124mtrc\u001b[39m\u001b[38;5;124m'\u001b[39m])\n\u001b[0;32m--> 169\u001b[0m     \u001b[38;5;28;01mraise\u001b[39;00m kx\u001b[38;5;241m.\u001b[39mQError(r[\u001b[38;5;124m'\u001b[39m\u001b[38;5;124mres\u001b[39m\u001b[38;5;124m'\u001b[39m]\u001b[38;5;241m.\u001b[39mpy()\u001b[38;5;241m.\u001b[39mdecode())\n\u001b[1;32m    170\u001b[0m \u001b[38;5;28;01melse\u001b[39;00m:\n\u001b[1;32m    171\u001b[0m     display(r[\u001b[38;5;124m'\u001b[39m\u001b[38;5;124mres\u001b[39m\u001b[38;5;124m'\u001b[39m]) \u001b[38;5;28;01mif\u001b[39;00m displayRet \u001b[38;5;28;01melse\u001b[39;00m \u001b[38;5;28mprint\u001b[39m(r[\u001b[38;5;124m'\u001b[39m\u001b[38;5;124mres\u001b[39m\u001b[38;5;124m'\u001b[39m])\n",
      "\u001b[0;31mQError\u001b[0m: length"
     ]
    }
   ],
   "source": [
    "d\n",
    "d + 3\n",
    "d % 1.5  \n",
    "d * 1 2   //pairwise vector multiplication\n",
    "d * 1 2 3 //length error"
   ]
  },
  {
   "cell_type": "markdown",
   "metadata": {
    "heading_collapsed": true
   },
   "source": [
    "# Creating a dictionary\n",
    "\n",
    "The primitive [`!`](https://code.kx.com/q/ref/dict/) (spoken as \"bang\") is used to create dictionaries - we can simply place a `!` between our list of keys and our list of values:"
   ]
  },
  {
   "cell_type": "code",
   "execution_count": 6,
   "metadata": {
    "hidden": true
   },
   "outputs": [
    {
     "name": "stdout",
     "output_type": "stream",
     "text": [
      "john  | 20\n",
      "steve | 31\n",
      "rachel| 22\n"
     ]
    }
   ],
   "source": [
    "names:`john`steve`rachel\n",
    "ages:20 31 22\n",
    "show dict:names!ages;  // define a dictionary called dict"
   ]
  },
  {
   "cell_type": "markdown",
   "metadata": {
    "hidden": true
   },
   "source": [
    "Neither the keys nor values need be simple lists, either of them can be general lists - they just need to be the same length. Below are some examples:"
   ]
  },
  {
   "cell_type": "code",
   "execution_count": 7,
   "metadata": {
    "hidden": true
   },
   "outputs": [
    {
     "name": "stdout",
     "output_type": "stream",
     "text": [
      "Arthur Dent      | 100\n",
      "Zaphod Beeblebrox| 42\n",
      "Ford   Prefect   | 150\n",
      "1001| Arthur Dent      \n",
      "1002| Zaphod Beeblebrox\n",
      "1003| Ford   Prefect   \n"
     ]
    }
   ],
   "source": [
    "(`Arthur`Dent; `Zaphod`Beeblebrox; `Ford`Prefect)! 100 42 150 //using nested symbol lists\n",
    "\n",
    "1001 1002 1003!(`Arthur`Dent; `Zaphod`Beeblebrox; `Ford`Prefect)"
   ]
  },
  {
   "cell_type": "markdown",
   "metadata": {
    "hidden": true,
    "reveal": "gd5i7hlw5og",
    "reveal-hidden": true
   },
   "source": [
    "##### Exercise \n",
    "\n",
    "Create a dictionary called `food` which contains the following:\n",
    "* <code>\\`milk\\`bread\\`biscuits</code> as a key\n",
    "* <code>1.3 2.0 3.5</code> as a value\n"
   ]
  },
  {
   "cell_type": "code",
   "execution_count": null,
   "metadata": {
    "hidden": true,
    "reveal": "gd5i7hlw5og"
   },
   "outputs": [],
   "source": [
    "food:`milk`bread`biscuits!1.3 2.0 3.5\n",
    "food"
   ]
  },
  {
   "cell_type": "code",
   "execution_count": 18,
   "metadata": {
    "hidden": true
   },
   "outputs": [
    {
     "name": "stdout",
     "output_type": "stream",
     "text": [
      "milk    | 1.3\n",
      "bread   | 2\n",
      "biscuits| 3.5\n"
     ]
    }
   ],
   "source": [
    "food:`milk`bread`biscuits!1.3 2.0 3.5\n",
    "food"
   ]
  },
  {
   "cell_type": "markdown",
   "metadata": {
    "heading_collapsed": true,
    "hidden": true
   },
   "source": [
    "## Implicit dictionary typing\n",
    "\n",
    "We can create an empty untyped dictionary using empty key and value lists, or an empty typed dictionary by casting our empty key and value lists: "
   ]
  },
  {
   "cell_type": "code",
   "execution_count": 9,
   "metadata": {
    "hidden": true
   },
   "outputs": [
    {
     "name": "stdout",
     "output_type": "stream",
     "text": [
      "0h\n",
      "9h\n"
     ]
    }
   ],
   "source": [
    "show a:()!()          //general dictionary - currently untyped \n",
    "type value a\n",
    "show b:(`$())!\"f\"$()  //typed empty dictionary - will force conformity to this datatype for any updates\n",
    "type value b"
   ]
  },
  {
   "cell_type": "markdown",
   "metadata": {
    "hidden": true
   },
   "source": [
    "The untyped dictionary above is interesting - while it currently isn't typed, it will assume a \"typing\" of the first inserted value. \n",
    "\n",
    "If we wanted to create a *true* general dictionary that won't lose it's \"untyped\" nature we can do so as follows: "
   ]
  },
  {
   "cell_type": "code",
   "execution_count": 10,
   "metadata": {
    "hidden": true
   },
   "outputs": [
    {
     "name": "stdout",
     "output_type": "stream",
     "text": [
      "0h\n"
     ]
    }
   ],
   "source": [
    "guaranteedUnTyped: enlist[`]!enlist(::)   //we're using enlist here because ! only works with lists\n",
    "type value guaranteedUnTyped"
   ]
  },
  {
   "cell_type": "markdown",
   "metadata": {
    "hidden": true,
    "reveal": "b6loo84ssqi",
    "reveal-hidden": true
   },
   "source": [
    "##### Exercise\n",
    "\n",
    "Create a single element dictionary called `months`, with one key `January` and a value of 1"
   ]
  },
  {
   "cell_type": "code",
   "execution_count": null,
   "metadata": {
    "hidden": true,
    "reveal": "b6loo84ssqi"
   },
   "outputs": [],
   "source": [
    "//we don't need the square brackets on the RHS because of operator precendence\n",
    "show months: enlist[`January]! enlist 1    "
   ]
  },
  {
   "cell_type": "code",
   "execution_count": 12,
   "metadata": {
    "hidden": true
   },
   "outputs": [
    {
     "name": "stdout",
     "output_type": "stream",
     "text": [
      "January| 1\n"
     ]
    }
   ],
   "source": [
    "months:(enlist `January)!enlist 1\n",
    "months"
   ]
  },
  {
   "cell_type": "markdown",
   "metadata": {
    "heading_collapsed": true,
    "hidden": true
   },
   "source": [
    "## Column dictionaries\n",
    "\n",
    "Column dictionaries are the foundation for tables. These are a special subset of dictionaries with a mapping from a simple list of symbols to a rectangular list of lists."
   ]
  },
  {
   "cell_type": "code",
   "execution_count": 13,
   "metadata": {
    "hidden": true
   },
   "outputs": [
    {
     "name": "stdout",
     "output_type": "stream",
     "text": [
      "col1| 1 2 3\n",
      "col2| 4 5 6\n"
     ]
    }
   ],
   "source": [
    "columnDict: `col1`col2!(1 2 3; 4 5 6)\n",
    "columnDict"
   ]
  },
  {
   "cell_type": "markdown",
   "metadata": {
    "heading_collapsed": true
   },
   "source": [
    "# Dictionary Retrieval\n",
    "\n",
    "Since dictionaries are commonly used for mappings, it's important we understand how we can use them to retrieve the values associated with our keys or vice versa."
   ]
  },
  {
   "cell_type": "markdown",
   "metadata": {
    "heading_collapsed": true,
    "hidden": true
   },
   "source": [
    "## Key lookup \n",
    "In most cases dictionaries are accessed by specifying the key(s) we wish to access and the corresponding values are returned."
   ]
  },
  {
   "cell_type": "code",
   "execution_count": 14,
   "metadata": {
    "hidden": true
   },
   "outputs": [
    {
     "name": "stdout",
     "output_type": "stream",
     "text": [
      "john  | 20\n",
      "steve | 31\n",
      "rachel| 22\n",
      "20\n",
      "20\n",
      "0N\n"
     ]
    }
   ],
   "source": [
    "dict\n",
    "dict `john\n",
    "dict[`john]  //functional syntax \n",
    "dict[`sarah] //value that isn't in our dictionary- we get a null of the same type as our first dictionary value "
   ]
  },
  {
   "cell_type": "markdown",
   "metadata": {
    "hidden": true
   },
   "source": [
    "We will get a type error if we try to pass keys that do not match the type of our key list: "
   ]
  },
  {
   "cell_type": "code",
   "execution_count": 15,
   "metadata": {
    "hidden": true
   },
   "outputs": [
    {
     "ename": "QError",
     "evalue": "type",
     "output_type": "error",
     "traceback": [
      "\u001b[0;31m---------------------------------------------------------------------------\u001b[0m",
      "\u001b[0;31mQError\u001b[0m                                    Traceback (most recent call last)",
      "Cell \u001b[0;32mIn[15], line 1\u001b[0m\n\u001b[0;32m----> 1\u001b[0m \u001b[43mget_ipython\u001b[49m\u001b[43m(\u001b[49m\u001b[43m)\u001b[49m\u001b[38;5;241;43m.\u001b[39;49m\u001b[43mrun_cell_magic\u001b[49m\u001b[43m(\u001b[49m\u001b[38;5;124;43m'\u001b[39;49m\u001b[38;5;124;43mq\u001b[39;49m\u001b[38;5;124;43m'\u001b[39;49m\u001b[43m,\u001b[49m\u001b[43m \u001b[49m\u001b[38;5;124;43m'\u001b[39;49m\u001b[38;5;124;43m'\u001b[39;49m\u001b[43m,\u001b[49m\u001b[43m \u001b[49m\u001b[38;5;124;43m'\u001b[39;49m\u001b[38;5;124;43mdict[\u001b[39;49m\u001b[38;5;124;43m\"\u001b[39;49m\u001b[38;5;124;43migor\u001b[39;49m\u001b[38;5;124;43m\"\u001b[39;49m\u001b[38;5;124;43m]\u001b[39;49m\u001b[38;5;130;43;01m\\n\u001b[39;49;00m\u001b[38;5;124;43m'\u001b[39;49m\u001b[43m)\u001b[49m\n",
      "File \u001b[0;32m/opt/conda/lib/python3.11/site-packages/IPython/core/interactiveshell.py:2541\u001b[0m, in \u001b[0;36mInteractiveShell.run_cell_magic\u001b[0;34m(self, magic_name, line, cell)\u001b[0m\n\u001b[1;32m   2539\u001b[0m \u001b[38;5;28;01mwith\u001b[39;00m \u001b[38;5;28mself\u001b[39m\u001b[38;5;241m.\u001b[39mbuiltin_trap:\n\u001b[1;32m   2540\u001b[0m     args \u001b[38;5;241m=\u001b[39m (magic_arg_s, cell)\n\u001b[0;32m-> 2541\u001b[0m     result \u001b[38;5;241m=\u001b[39m \u001b[43mfn\u001b[49m\u001b[43m(\u001b[49m\u001b[38;5;241;43m*\u001b[39;49m\u001b[43margs\u001b[49m\u001b[43m,\u001b[49m\u001b[43m \u001b[49m\u001b[38;5;241;43m*\u001b[39;49m\u001b[38;5;241;43m*\u001b[39;49m\u001b[43mkwargs\u001b[49m\u001b[43m)\u001b[49m\n\u001b[1;32m   2543\u001b[0m \u001b[38;5;66;03m# The code below prevents the output from being displayed\u001b[39;00m\n\u001b[1;32m   2544\u001b[0m \u001b[38;5;66;03m# when using magics with decorator @output_can_be_silenced\u001b[39;00m\n\u001b[1;32m   2545\u001b[0m \u001b[38;5;66;03m# when the last Python token in the expression is a ';'.\u001b[39;00m\n\u001b[1;32m   2546\u001b[0m \u001b[38;5;28;01mif\u001b[39;00m \u001b[38;5;28mgetattr\u001b[39m(fn, magic\u001b[38;5;241m.\u001b[39mMAGIC_OUTPUT_CAN_BE_SILENCED, \u001b[38;5;28;01mFalse\u001b[39;00m):\n",
      "File \u001b[0;32m/opt/conda/lib/python3.11/site-packages/pykx/nbextension.py:181\u001b[0m, in \u001b[0;36mq\u001b[0;34m(instructions, code)\u001b[0m\n\u001b[1;32m    179\u001b[0m     \u001b[38;5;28;01mif\u001b[39;00m save:\n\u001b[1;32m    180\u001b[0m         \u001b[38;5;28mprint\u001b[39m(\u001b[38;5;124mf\u001b[39m\u001b[38;5;124m\"\u001b[39m\u001b[38;5;124mCell contents not saved to \u001b[39m\u001b[38;5;124m'\u001b[39m\u001b[38;5;132;01m{\u001b[39;00mpath\u001b[38;5;132;01m}\u001b[39;00m\u001b[38;5;124m'\u001b[39m\u001b[38;5;124m due to error during execution/saving.\u001b[39m\u001b[38;5;124m\"\u001b[39m)\n\u001b[0;32m--> 181\u001b[0m     \u001b[38;5;28;01mraise\u001b[39;00m e\n\u001b[1;32m    182\u001b[0m \u001b[38;5;28;01mfinally\u001b[39;00m:\n\u001b[1;32m    183\u001b[0m     \u001b[38;5;28;01mif\u001b[39;00m \u001b[38;5;28missubclass\u001b[39m(\u001b[38;5;28mtype\u001b[39m(_q), kx\u001b[38;5;241m.\u001b[39mQConnection):\n",
      "File \u001b[0;32m/opt/conda/lib/python3.11/site-packages/pykx/nbextension.py:169\u001b[0m, in \u001b[0;36mq\u001b[0;34m(instructions, code)\u001b[0m\n\u001b[1;32m    167\u001b[0m     \u001b[38;5;28;01mif\u001b[39;00m debug \u001b[38;5;129;01mor\u001b[39;00m kx\u001b[38;5;241m.\u001b[39mconfig\u001b[38;5;241m.\u001b[39mpykx_qdebug:\n\u001b[1;32m    168\u001b[0m         \u001b[38;5;28mprint\u001b[39m(r[\u001b[38;5;124m'\u001b[39m\u001b[38;5;124mtrc\u001b[39m\u001b[38;5;124m'\u001b[39m])\n\u001b[0;32m--> 169\u001b[0m     \u001b[38;5;28;01mraise\u001b[39;00m kx\u001b[38;5;241m.\u001b[39mQError(r[\u001b[38;5;124m'\u001b[39m\u001b[38;5;124mres\u001b[39m\u001b[38;5;124m'\u001b[39m]\u001b[38;5;241m.\u001b[39mpy()\u001b[38;5;241m.\u001b[39mdecode())\n\u001b[1;32m    170\u001b[0m \u001b[38;5;28;01melse\u001b[39;00m:\n\u001b[1;32m    171\u001b[0m     display(r[\u001b[38;5;124m'\u001b[39m\u001b[38;5;124mres\u001b[39m\u001b[38;5;124m'\u001b[39m]) \u001b[38;5;28;01mif\u001b[39;00m displayRet \u001b[38;5;28;01melse\u001b[39;00m \u001b[38;5;28mprint\u001b[39m(r[\u001b[38;5;124m'\u001b[39m\u001b[38;5;124mres\u001b[39m\u001b[38;5;124m'\u001b[39m])\n",
      "\u001b[0;31mQError\u001b[0m: type"
     ]
    }
   ],
   "source": [
    "dict[\"igor\"]"
   ]
  },
  {
   "cell_type": "markdown",
   "metadata": {
    "hidden": true
   },
   "source": [
    "Dictionaries are very useful for mappings because we can pass not just one input, but many input values, effectively mapping our list to the same domain as our dictionary"
   ]
  },
  {
   "cell_type": "code",
   "execution_count": 16,
   "metadata": {
    "hidden": true
   },
   "outputs": [
    {
     "name": "stdout",
     "output_type": "stream",
     "text": [
      "20 22 0N 22\n"
     ]
    }
   ],
   "source": [
    "L:`john`rachel`sarah`rachel\n",
    "dict[L]      //by providing a list of keys we can retrieve multiple values"
   ]
  },
  {
   "cell_type": "markdown",
   "metadata": {
    "hidden": true,
    "reveal": "msu065pwd3",
    "reveal-hidden": true
   },
   "source": [
    "##### Exercise \n",
    "\n",
    "Using the `food` dictionary that we have defined in the our previous exercise, find the value corresponding with milk."
   ]
  },
  {
   "cell_type": "code",
   "execution_count": null,
   "metadata": {
    "hidden": true,
    "reveal": "msu065pwd3"
   },
   "outputs": [],
   "source": [
    "food[`milk] //functional syntax \n",
    "food`milk "
   ]
  },
  {
   "cell_type": "code",
   "execution_count": 19,
   "metadata": {
    "hidden": true
   },
   "outputs": [
    {
     "name": "stdout",
     "output_type": "stream",
     "text": [
      "1.3\n"
     ]
    }
   ],
   "source": [
    "food[`milk]"
   ]
  },
  {
   "cell_type": "markdown",
   "metadata": {
    "heading_collapsed": true,
    "hidden": true
   },
   "source": [
    "## Reverse Lookup \n",
    "We can use the `?` operator to find items in a dictionary- just like we did with lists! For a dictionary this will return the key associated with that value:"
   ]
  },
  {
   "cell_type": "code",
   "execution_count": 21,
   "metadata": {
    "hidden": true
   },
   "outputs": [
    {
     "name": "stdout",
     "output_type": "stream",
     "text": [
      "1\n",
      "john  | 20\n",
      "steve | 31\n",
      "rachel| 22\n",
      "john\n",
      "\n"
     ]
    }
   ],
   "source": [
    "10 20 30 40?20 //finds the first index that the value occured at\n",
    "\n",
    "dict\n",
    "dict?20 \n",
    "dict?24        //if the value isn't there, it returns a null of the same type as the first key"
   ]
  },
  {
   "cell_type": "markdown",
   "metadata": {
    "hidden": true,
    "reveal": "ysbfaezqbqp",
    "reveal-hidden": true
   },
   "source": [
    "##### Exercise \n",
    "\n",
    "Create a birth month dictionary (`birthMonth`) and create entries for John, Steve and Rachel -> JAN,SEPT,OCT accordingly. Store the keys as symbols, and values as strings. \n",
    "\n",
    "Using this dictionary find out:  \n",
    "* What is Steve's birth month?\n",
    "* Whose birthday is in October?"
   ]
  },
  {
   "cell_type": "code",
   "execution_count": null,
   "metadata": {
    "hidden": true,
    "reveal": "ysbfaezqbqp"
   },
   "outputs": [],
   "source": [
    "//dictionary definition\n",
    "show birthMonth: `john`steve`rachel!(\"JAN\";\"SEPT\";\"OCT\")\n",
    "\n",
    "//When is steves birth month?\n",
    "birthMonth[`steve]\n",
    "\n",
    "//Whose birth month is October?\n",
    "birthMonth?\"OCT\""
   ]
  },
  {
   "cell_type": "code",
   "execution_count": 23,
   "metadata": {
    "hidden": true
   },
   "outputs": [
    {
     "name": "stdout",
     "output_type": "stream",
     "text": [
      "John  | \"JAN\"\n",
      "Steve | \"SEPT\"\n",
      "Rachel| \"OCT\"\n",
      "SEPT\n",
      "Rachel\n"
     ]
    }
   ],
   "source": [
    "birthMonth:`John`Steve`Rachel!(\"JAN\";\"SEPT\";\"OCT\")\n",
    "birthMonth\n",
    "birthMonth[`Steve]\n",
    "birthMonth?\"OCT\""
   ]
  },
  {
   "cell_type": "markdown",
   "metadata": {
    "heading_collapsed": true
   },
   "source": [
    "# Amending dictionaries\n",
    "Now that we know how to create a dictionary, we will discuss how to amend an entry in our dictionary."
   ]
  },
  {
   "cell_type": "markdown",
   "metadata": {
    "heading_collapsed": true,
    "hidden": true
   },
   "source": [
    "## Updating values \n",
    "Taking the dictionary `dict` from above, let's say that we need to update some people's ages. We can update a dictionary value by specifying the key and using explicit reassignment."
   ]
  },
  {
   "cell_type": "code",
   "execution_count": 24,
   "metadata": {
    "hidden": true
   },
   "outputs": [
    {
     "name": "stdout",
     "output_type": "stream",
     "text": [
      "22\n",
      "john  | 20\n",
      "steve | 31\n",
      "rachel| 26\n",
      "john  | 20\n",
      "steve | 31\n",
      "rachel| 22\n"
     ]
    }
   ],
   "source": [
    "show dict\n",
    "dict[`rachel] //extracting the existing value\n",
    "dict[`rachel]:26        // set a value\n",
    "dict"
   ]
  },
  {
   "cell_type": "markdown",
   "metadata": {
    "hidden": true
   },
   "source": [
    "If we want to decrease John's age by 1, we can also do the following:"
   ]
  },
  {
   "cell_type": "code",
   "execution_count": 25,
   "metadata": {
    "hidden": true
   },
   "outputs": [
    {
     "name": "stdout",
     "output_type": "stream",
     "text": [
      "john  | 19\n",
      "steve | 31\n",
      "rachel| 26\n",
      "john  | 18\n",
      "steve | 31\n",
      "rachel| 26\n"
     ]
    }
   ],
   "source": [
    "dict[`john]-:1             // decrement a value \n",
    "dict \n",
    "\n",
    "dict[`john]:dict[`john]-1   \n",
    "dict "
   ]
  },
  {
   "cell_type": "markdown",
   "metadata": {
    "hidden": true,
    "reveal": "2pdfut21rxd",
    "reveal-hidden": true
   },
   "source": [
    "##### Exercise \n",
    "\n",
    "Using our dictionary `birthMonth` from previous questions, update Steve's birth month to the shorthand \"AUG\" for August."
   ]
  },
  {
   "cell_type": "code",
   "execution_count": null,
   "metadata": {
    "hidden": true,
    "reveal": "2pdfut21rxd"
   },
   "outputs": [],
   "source": [
    "//dictionary definition\n",
    "birthMonth:`john`steve`rachel!(\"JAN\";\"SEPT\";\"OCT\");\n",
    "//reassigning the value for `steve\n",
    "birthMonth[`steve]:\"AUG\";\n",
    "//updated dictionary\n",
    "birthMonth"
   ]
  },
  {
   "cell_type": "code",
   "execution_count": 28,
   "metadata": {
    "hidden": true
   },
   "outputs": [],
   "source": [
    "birthMonth[`Steve]: \"AUG\""
   ]
  },
  {
   "cell_type": "markdown",
   "metadata": {
    "heading_collapsed": true,
    "hidden": true
   },
   "source": [
    "## Removing entries\n",
    "We can use [`_`](https://code.kx.com/q/ref/drop/#drop-keys-from-a-dictionary)(referred to as [drop](https://code.kx.com/q/ref/drop/#drop-keys-from-a-dictionary)) to remove key-value pairs from a dictionary. "
   ]
  },
  {
   "cell_type": "code",
   "execution_count": 29,
   "metadata": {
    "hidden": true
   },
   "outputs": [
    {
     "name": "stdout",
     "output_type": "stream",
     "text": [
      "2 3 4 5 6 7 8 9\n",
      "tom   | 18\n",
      "brian | 19\n",
      "steve | 20\n",
      "sarah | 31\n",
      "jane  | 21\n",
      "joanne| 27\n"
     ]
    }
   ],
   "source": [
    "//with a list\n",
    "2 _ til 10   //using _ with a list to remove the first 2 items\n",
    "//creating a dictionary\n",
    "show dict: `tom`brian`steve`sarah`jane`joanne!(18 19 20 31 21 27)"
   ]
  },
  {
   "cell_type": "markdown",
   "metadata": {
    "hidden": true
   },
   "source": [
    "If we want to remove Tom and Jane from our dictionary we can do the below:"
   ]
  },
  {
   "cell_type": "code",
   "execution_count": 30,
   "metadata": {
    "hidden": true
   },
   "outputs": [
    {
     "name": "stdout",
     "output_type": "stream",
     "text": [
      "brian | 19\n",
      "steve | 20\n",
      "sarah | 31\n",
      "joanne| 27\n",
      "tom  | 18\n",
      "brian| 19\n",
      "steve| 20\n",
      "sarah| 31\n",
      "jane | 21\n",
      "tom   | 18\n",
      "brian | 19\n",
      "steve | 20\n",
      "jane  | 21\n",
      "joanne| 27\n",
      "(`symbol$())!`long$()\n"
     ]
    }
   ],
   "source": [
    "`tom`jane _ dict           // whitespace is required to the left of _\n",
    "`joanne _ dict             // remove one entry\n",
    "`mark`sarah _ dict         // removing a key that does not exist has no effect & won't error\n",
    "key[dict] _ dict           // returns an empty dictionary"
   ]
  },
  {
   "cell_type": "markdown",
   "metadata": {
    "hidden": true,
    "reveal": "p82mir78r8q",
    "reveal-hidden": true
   },
   "source": [
    "##### Exercise \n",
    "\n",
    "Return the `birthMonth` dictionary without the entry for John:"
   ]
  },
  {
   "cell_type": "code",
   "execution_count": null,
   "metadata": {
    "hidden": true,
    "reveal": "p82mir78r8q"
   },
   "outputs": [],
   "source": [
    "//dictionary definition\n",
    "show birthMonth \n",
    "\n",
    "//returning without John's key value\n",
    "`john _ birthMonth"
   ]
  },
  {
   "cell_type": "code",
   "execution_count": 32,
   "metadata": {
    "hidden": true
   },
   "outputs": [
    {
     "name": "stdout",
     "output_type": "stream",
     "text": [
      "Steve | \"AUG\"\n",
      "Rachel| \"OCT\"\n"
     ]
    }
   ],
   "source": [
    "`John _ birthMonth"
   ]
  },
  {
   "cell_type": "markdown",
   "metadata": {
    "heading_collapsed": true,
    "hidden": true
   },
   "source": [
    "## Subsetting entries \n",
    "We can use the primitive `#`(referred to as \"take\") to explicitly choose only certain values in our dictionary: "
   ]
  },
  {
   "cell_type": "code",
   "execution_count": 34,
   "metadata": {
    "hidden": true
   },
   "outputs": [
    {
     "name": "stdout",
     "output_type": "stream",
     "text": [
      "tom | 18\n",
      "jane| 21\n",
      "timothy| \n",
      "sarah  | 31\n",
      "timothy| 23\n",
      "sarah  | 31\n",
      "`steve`sarah\n"
     ]
    }
   ],
   "source": [
    "`tom`jane # dict            //selecting just the values for Tom and Jane\n",
    "`timothy`sarah # dict       //selecting values that aren't present assigns a null value to that key\n",
    "23^`timothy`sarah # dict    //setting a default of 23 for any missing values"
   ]
  },
  {
   "cell_type": "markdown",
   "metadata": {
    "heading_collapsed": true,
    "hidden": true
   },
   "source": [
    "## Appending to a dictionary\n",
    "Adding a new value to a dictionary is simple and is done in the same way as amending a dictionary:\n"
   ]
  },
  {
   "cell_type": "code",
   "execution_count": null,
   "metadata": {
    "hidden": true
   },
   "outputs": [],
   "source": [
    "dict\n",
    "\n",
    "//adding one new value\n",
    "dict[`tim]:35;           //the assignment method\n",
    "dict\n",
    "\n",
    "//can add in bulk\n",
    "dict[`sally`joe]: 23 52  //assignment is pairwise between the keys and the supplied vector\n",
    "dict"
   ]
  },
  {
   "cell_type": "markdown",
   "metadata": {
    "hidden": true,
    "reveal": "d51hte23rx",
    "reveal-hidden": true
   },
   "source": [
    "##### Exercise\n",
    "\n",
    "Add Tom and Brian's birth months (FEB,DEC) to our `birthMonth` dictionary - this time add them as symbols."
   ]
  },
  {
   "cell_type": "code",
   "execution_count": null,
   "metadata": {
    "hidden": true,
    "reveal": "d51hte23rx"
   },
   "outputs": [],
   "source": [
    "birthMonth                //our starting dictionary\n",
    "type value birthMonth     //the implicit dictionary type is general \n",
    "\n",
    "//assigning new values as symbols\n",
    "birthMonth[`tom`brian]:`FEB`DEC\n",
    "\n",
    "birthMonth"
   ]
  },
  {
   "cell_type": "markdown",
   "metadata": {
    "hidden": true,
    "reveal": "d51hte23rx"
   },
   "source": [
    "The reason the above does not throw an error when in other cases it would is because list of string lists are general lists so the dictionary will accept any type input. "
   ]
  },
  {
   "cell_type": "code",
   "execution_count": 35,
   "metadata": {
    "hidden": true
   },
   "outputs": [
    {
     "name": "stdout",
     "output_type": "stream",
     "text": [
      "John  | \"JAN\"\n",
      "Steve | \"AUG\"\n",
      "Rachel| \"OCT\"\n",
      "Tom   | `FEB\n",
      "Brian | `DEC\n"
     ]
    }
   ],
   "source": [
    "birthMonth[`Tom`Brian]:`FEB`DEC\n",
    "birthMonth"
   ]
  },
  {
   "cell_type": "markdown",
   "metadata": {
    "heading_collapsed": true
   },
   "source": [
    "# Combining dictionaries\n",
    "We will often have to work with and manipulate multiple dictionaries and it is important to understand how to combine them, either through operations like addition, or joining."
   ]
  },
  {
   "cell_type": "markdown",
   "metadata": {
    "heading_collapsed": true,
    "hidden": true
   },
   "source": [
    "## Joining two dictionaries\n",
    "\n",
    "The join operator `,` can be used to merge two dictionaries, let's create two dictionaries with uncommon keys and merge them:"
   ]
  },
  {
   "cell_type": "code",
   "execution_count": 36,
   "metadata": {
    "hidden": true
   },
   "outputs": [
    {
     "name": "stdout",
     "output_type": "stream",
     "text": [
      "AAPL| 10\n",
      "IBM | 20\n",
      "KX  | 30\n",
      "FD  | 40\n",
      "MSFT| 50\n",
      "AAPL| 10\n",
      "IBM | 20\n",
      "KX  | 30\n",
      "FD  | 40\n",
      "MSFT| 50\n"
     ]
    }
   ],
   "source": [
    "d1:`AAPL`IBM`KX!10 20 30\n",
    "d1\n",
    "\n",
    "d2:`FD`MSFT!40 50\n",
    "d2\n",
    "\n",
    "d1,d2               //Using the join operator "
   ]
  },
  {
   "cell_type": "markdown",
   "metadata": {
    "hidden": true
   },
   "source": [
    "The join operator `,` uses upsert semantics meaning if the key exists it will update the dictionary with the corresponding value. If the value does not exist, it will insert a new key value pair.  Let's look at what happens when we join two dictionaries with common keys."
   ]
  },
  {
   "cell_type": "code",
   "execution_count": 37,
   "metadata": {
    "hidden": true
   },
   "outputs": [
    {
     "name": "stdout",
     "output_type": "stream",
     "text": [
      ",`KX\n"
     ]
    }
   ],
   "source": [
    "//new dictionaries\n",
    "d1:`AAPL`IBM`KX!10 20 30\n",
    "d2:`KX`FD`MRP!100 200 300    \n",
    "\n",
    "key[d1] inter key[d2]        //common key Kx"
   ]
  },
  {
   "cell_type": "code",
   "execution_count": 38,
   "metadata": {
    "hidden": true
   },
   "outputs": [
    {
     "name": "stdout",
     "output_type": "stream",
     "text": [
      "AAPL| 10\n",
      "IBM | 20\n",
      "KX  | 100\n",
      "FD  | 200\n",
      "MRP | 300\n",
      "KX  | 30\n",
      "FD  | 200\n",
      "MRP | 300\n",
      "AAPL| 10\n",
      "IBM | 20\n",
      "0b\n"
     ]
    }
   ],
   "source": [
    "d1,d2                        //value in d2 prevails\n",
    "d2,d1                        //value in d1 prevails\n",
    "(d2,d1)~d1,d2"
   ]
  },
  {
   "cell_type": "markdown",
   "metadata": {
    "hidden": true,
    "reveal": "p1ye6zo25q",
    "reveal-hidden": true
   },
   "source": [
    "##### Exercise \n",
    "\n",
    "Using the dictionaries, <code>d1:\\`a\\`b\\`c!1 2 3</code> and <code>d2:\\`a\\`b\\`d!2 2 5</code>\n",
    "\n",
    "Create a dictionary `d3` by combining `d1` and `d2` - we want the values in `d2` to take priority."
   ]
  },
  {
   "cell_type": "code",
   "execution_count": null,
   "metadata": {
    "hidden": true,
    "reveal": "p1ye6zo25q"
   },
   "outputs": [],
   "source": [
    "d1:`a`b`c!1 2 3\n",
    "d2:`a`b`d!2 2 5\n",
    "\n",
    "d3:d1,d2\n",
    "d3"
   ]
  },
  {
   "cell_type": "code",
   "execution_count": 40,
   "metadata": {
    "hidden": true
   },
   "outputs": [
    {
     "name": "stdout",
     "output_type": "stream",
     "text": [
      "a| 2\n",
      "b| 2\n",
      "c| 3\n",
      "d| 5\n"
     ]
    }
   ],
   "source": [
    "d1:`a`b`c!1 2 3\n",
    "d2:`a`b`d!2 2 5\n",
    "d3:d1,d2\n",
    "d3"
   ]
  },
  {
   "cell_type": "markdown",
   "metadata": {
    "heading_collapsed": true,
    "hidden": true
   },
   "source": [
    "## Coalesce ^\n",
    "\n",
    "The Coalesce operator is similar to `,` in that it employs upsert semantics to merge two dictionaries."
   ]
  },
  {
   "cell_type": "code",
   "execution_count": 42,
   "metadata": {
    "hidden": true
   },
   "outputs": [
    {
     "name": "stdout",
     "output_type": "stream",
     "text": [
      "a| 10\n",
      "b| 20\n",
      "c| 30\n",
      "b| 200\n",
      "c| \n",
      "d| 400\n",
      "colaesce\n",
      "a| 10\n",
      "b| 200\n",
      "c| 30\n",
      "d| 400\n"
     ]
    }
   ],
   "source": [
    "d1:`a`b`c!10 20 30\n",
    "d1\n",
    "\n",
    "d2:`b`c`d!200 0N 400\n",
    "d2\n",
    "\n",
    "\"colaesce\"\n",
    "d1^d2   //rather than keeping the null value of c in d2, the value from d1 is retained"
   ]
  },
  {
   "cell_type": "markdown",
   "metadata": {
    "hidden": true,
    "reveal": "c1xjxyhtcxo",
    "reveal-hidden": true
   },
   "source": [
    "##### Exercise \n",
    "\n",
    "Given our previous dictionary `d3`(<code>d3:\\`a\\`b\\`c\\`d!2 2 3 5</code>) and a new dictionary <code>d4:\\`c\\`d\\`e\\`f!20 0N 31 5</code>, use these to create the following dictionary: \n",
    "\n",
    "A.\n",
    "\n",
    "    a| 2 \n",
    "    b| 2 \n",
    "    c| 20 \n",
    "    d| 5 \n",
    "    e| 31 \n",
    "    f| 5  "
   ]
  },
  {
   "cell_type": "code",
   "execution_count": null,
   "metadata": {
    "hidden": true,
    "reveal": "c1xjxyhtcxo"
   },
   "outputs": [],
   "source": [
    "d3:`a`b`c`d!2 2 3 5\n",
    "d4:`c`d`e`f!20 0N 31 5\n",
    "//The resultant dictionary has the same values as the values from d4, except where d4 values are null. \n",
    "//The resultant dictionary has been filled with the d3 value\n",
    "d3^d4"
   ]
  },
  {
   "cell_type": "code",
   "execution_count": 44,
   "metadata": {
    "hidden": true
   },
   "outputs": [
    {
     "name": "stdout",
     "output_type": "stream",
     "text": [
      "a| 2\n",
      "b| 2\n",
      "c| 20\n",
      "d| 5\n",
      "e| 31\n",
      "f| 5\n"
     ]
    }
   ],
   "source": [
    "d4:`c`d`e`f!20 0N 31 5\n",
    "d3^d4"
   ]
  },
  {
   "cell_type": "markdown",
   "metadata": {
    "heading_collapsed": true,
    "hidden": true
   },
   "source": [
    "## Mathematical Operations\n",
    "\n",
    "Following the general pattern that we have seen up until now, arithmetic operators are executed on common keys. If uncommon keys exists, they will remain unchanged."
   ]
  },
  {
   "cell_type": "code",
   "execution_count": 45,
   "metadata": {
    "hidden": true
   },
   "outputs": [
    {
     "name": "stdout",
     "output_type": "stream",
     "text": [
      "IBM| 10\n",
      "FD | 20\n",
      "KX | 30\n",
      "FD | 200\n",
      "KX | 300\n",
      "MRP| 400\n",
      "IBM| 10\n",
      "FD | 220\n",
      "KX | 330\n",
      "MRP| 400\n"
     ]
    }
   ],
   "source": [
    "d1:`IBM`FD`KX!10 20 30\n",
    "d1\n",
    "\n",
    "d2:`FD`KX`MRP!200 300 400\n",
    "d2 \n",
    "\n",
    "d1+d2 "
   ]
  },
  {
   "cell_type": "markdown",
   "metadata": {
    "hidden": true,
    "reveal": "zwa9mebpqvh",
    "reveal-hidden": true
   },
   "source": [
    "##### Exercise \n",
    "\n",
    "Using the previously defined dictionaries `d3` and `d4`, use them to create the below dictionary. \n",
    "    \n",
    "    c| 6.666667 \n",
    "    d| 0n\n",
    "    e| 31 \n",
    "    f| 5 \n",
    "    a| 2 \n",
    "    b| 2 "
   ]
  },
  {
   "cell_type": "code",
   "execution_count": null,
   "metadata": {
    "hidden": true,
    "reveal": "zwa9mebpqvh"
   },
   "outputs": [],
   "source": [
    "d3:`a`b`c`d!2 2 3 5\n",
    "d4:`c`d`e`f!20 0N 31 5\n",
    "\n",
    "\n",
    "//the dictionary has been unaffected in uncommon keys, for common keys c and d they have been divided\n",
    "    //our first \"hint\" it's division is that our type has changed - 6.666667 and 0n show us that\n",
    "d4%d3"
   ]
  },
  {
   "cell_type": "code",
   "execution_count": 47,
   "metadata": {
    "hidden": true
   },
   "outputs": [
    {
     "name": "stdout",
     "output_type": "stream",
     "text": [
      "c| 6.666667\n",
      "d| 0n\n",
      "e| 31\n",
      "f| 5\n",
      "a| 2\n",
      "b| 2\n"
     ]
    }
   ],
   "source": [
    "d4 % d3"
   ]
  }
 ],
 "metadata": {
  "kernelspec": {
   "display_name": "Python 3 (ipykernel)",
   "language": "python",
   "name": "python3"
  },
  "language_info": {
   "codemirror_mode": {
    "name": "ipython",
    "version": 3
   },
   "file_extension": ".py",
   "mimetype": "text/x-python",
   "name": "python",
   "nbconvert_exporter": "python",
   "pygments_lexer": "ipython3",
   "version": "3.11.10"
  },
  "toc": {
   "base_numbering": 1,
   "nav_menu": {},
   "number_sections": true,
   "sideBar": true,
   "skip_h1_title": false,
   "title_cell": "Table of Contents",
   "title_sidebar": "Contents",
   "toc_cell": false,
   "toc_position": {
    "height": "calc(100% - 180px)",
    "left": "10px",
    "top": "150px",
    "width": "384px"
   },
   "toc_section_display": true,
   "toc_window_display": true
  }
 },
 "nbformat": 4,
 "nbformat_minor": 4
}
