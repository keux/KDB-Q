{
 "cells": [
  {
   "cell_type": "code",
   "execution_count": 1,
   "metadata": {
    "autorun": true,
    "editable": false,
    "jupyter": {
     "source_hidden": true
    },
    "tags": [
     "remove-cell"
    ]
   },
   "outputs": [],
   "source": [
    "#;.pykx.disableJupyter()"
   ]
  },
  {
   "cell_type": "code",
   "execution_count": 2,
   "metadata": {
    "autorun": true,
    "editable": false,
    "jupyter": {
     "source_hidden": true
    },
    "tags": [
     "remove-cell"
    ]
   },
   "outputs": [
    {
     "name": "stdout",
     "output_type": "stream",
     "text": [
      "PyKX now running in 'jupyter_qfirst' mode. All cells by default will be run as q code. \n",
      "Include '%%py' at the beginning of each cell to run as python code. \n"
     ]
    }
   ],
   "source": [
    "# https://code.kx.com/pykx/3.0/examples/jupyter-integration.html#q-first-mode\n",
    "import pykx as kx\n",
    "kx.util.jupyter_qfirst_enable()"
   ]
  },
  {
   "cell_type": "markdown",
   "metadata": {},
   "source": [
    "<img src=\"../qbies.png\" width=\"50px\" style=\"width: 100px;padding-right:5px;padding-top:1px;padding-left:5px;\" align=\"left\"/>\n",
    "\n",
    "   # Dictionaries Practical Guidance"
   ]
  },
  {
   "cell_type": "markdown",
   "metadata": {
    "heading_collapsed": true
   },
   "source": [
    "# Dictionary lookups \n",
    "Associations and dictionaries are useful structures for storing lookup, static or rule type information. "
   ]
  },
  {
   "cell_type": "markdown",
   "metadata": {
    "hidden": true
   },
   "source": [
    "For example, let’s say we have a list of incoming bids and we wish to implement the following simple rule-if the first bid is null, replace this null with 0.0.\n",
    "\n",
    "Below is a list of incoming bids where the first value is null."
   ]
  },
  {
   "cell_type": "code",
   "execution_count": null,
   "metadata": {
    "hidden": true,
    "scrolled": true
   },
   "outputs": [],
   "source": [
    "bids:0n 1 2 3f\n",
    "if[null first bids;bids[0]:0.0]  /if initial bid is null, replace with 0\n",
    "bids"
   ]
  },
  {
   "cell_type": "markdown",
   "metadata": {
    "hidden": true
   },
   "source": [
    "Associations provide an easy way to extend this solution to handle more than one datatype. For example, the following association provides initial values for simple lists of type char, symbol, int and float."
   ]
  },
  {
   "cell_type": "code",
   "execution_count": null,
   "metadata": {
    "hidden": true,
    "scrolled": true
   },
   "outputs": [],
   "source": [
    "show iv:10 11 6 9h!(\"f\";`first;0i;0.0) //default values for 4 datatypes"
   ]
  },
  {
   "cell_type": "markdown",
   "metadata": {
    "hidden": true
   },
   "source": [
    "Assume the variable `data` is the list of incoming data. At runtime,`data` will be of one of these four datatypes.The null replacement expression becomes:"
   ]
  },
  {
   "cell_type": "code",
   "execution_count": null,
   "metadata": {
    "hidden": true,
    "scrolled": true
   },
   "outputs": [],
   "source": [
    "data:``a`c`h /data is a list of symbols\n",
    "if[null first data;data[0]:iv type data]\n",
    "data"
   ]
  },
  {
   "cell_type": "markdown",
   "metadata": {
    "hidden": true
   },
   "source": [
    "This association is easily extendable to all types.\n",
    "\n",
    "This same idea can also be used in other situations. Suppose we have a list of error messages in code format. The association below explains the code:"
   ]
  },
  {
   "cell_type": "code",
   "execution_count": null,
   "metadata": {
    "hidden": true,
    "scrolled": true
   },
   "outputs": [],
   "source": [
    "code:`c`t`o!`CorruptData`TypeMismatch`OutofRange"
   ]
  },
  {
   "cell_type": "markdown",
   "metadata": {
    "hidden": true
   },
   "source": [
    "If we have a list of errors that occurred within a program, it might be useful to decode this so that it is easily readable to a person reviewing the list."
   ]
  },
  {
   "cell_type": "code",
   "execution_count": null,
   "metadata": {
    "hidden": true,
    "scrolled": true
   },
   "outputs": [],
   "source": [
    "errors:`c`o`t`o`o`c`t`t`o`c`c\n",
    "code[errors]"
   ]
  },
  {
   "cell_type": "markdown",
   "metadata": {
    "heading_collapsed": true
   },
   "source": [
    "# Dictionaries & Code readability\n",
    "\n",
    "When dictionaries get large they can become very difficult to read in our code - we can keep our dictionaries \"clear\" by using iterators."
   ]
  },
  {
   "cell_type": "code",
   "execution_count": 3,
   "metadata": {
    "hidden": true
   },
   "outputs": [
    {
     "name": "stdout",
     "output_type": "stream",
     "text": [
      "is     | (\"caught\";\"in a landslide\")\n",
      "this   | `no`escape`from\n",
      "the    | `reality\n",
      "real   | 2 3\n",
      "world  | (2;2f;2)\n",
      "or     | 2025.02.25\n",
      "is     | `the`neverending\n",
      "this   | `story\n",
      "just   | 1\n",
      "fantasy| \"!!!!\"\n"
     ]
    }
   ],
   "source": [
    "`is`this`the`real`world`or`is`this`just`fantasy!((\"caught\";\"in a landslide\");`no`escape`from;`reality;2 3 ;(2;2f;2);.z.d;`the`neverending;`story;1;\"!!!!\")"
   ]
  },
  {
   "cell_type": "markdown",
   "metadata": {
    "hidden": true
   },
   "source": [
    "Dictionaries can be generated in a more clear and readable format if we use some tricks - like creating  key-values as pairs first, and then flipping them into two separate lists. We can then use the `.` operator to make it clear we want the lists to be considered the first and second arguments to the `!` operator."
   ]
  },
  {
   "cell_type": "code",
   "execution_count": 4,
   "metadata": {
    "hidden": true
   },
   "outputs": [
    {
     "name": "stdout",
     "output_type": "stream",
     "text": [
      "is     | (\"caught\";\"in a landslide\")\n",
      "this   | `no`escape`from\n",
      "the    | `reality\n",
      "real   | 2 3\n",
      "world  | (2;2f;2)\n",
      "or     | 2025.02.25\n",
      "is     | `the`neverending\n",
      "this   | `story\n",
      "just   | 1\n",
      "fantasy| \"!!!!\"\n"
     ]
    }
   ],
   "source": [
    ".[!; flip (\n",
    "            (`is;(\"caught\";\"in a landslide\"));\n",
    "            (`this;`no`escape`from);\n",
    "            (`the;`reality);\n",
    "            (`real;2 3);\n",
    "            (`world;(2;2f;2));\n",
    "            (`or;.z.d);\n",
    "            (`is;`the`neverending);\n",
    "            (`this;`story);\n",
    "            (`just;1);\n",
    "            (`fantasy;\"!!!!\")\n",
    "          )]"
   ]
  },
  {
   "cell_type": "markdown",
   "metadata": {
    "hidden": true
   },
   "source": [
    "If we move our \"make these lists a dictionary\" operation into a projection of `.` with `!` i.e. `.[!]`, we can avoid having to wrap our whole dictionary lists. In this situation, it is easier to see what dictionary we are trying to generate within the code, i.e without having to output to the console."
   ]
  },
  {
   "cell_type": "code",
   "execution_count": 5,
   "metadata": {
    "hidden": true
   },
   "outputs": [
    {
     "name": "stdout",
     "output_type": "stream",
     "text": [
      "is                          this            the      real world    or        ..\n",
      "(\"caught\";\"in a landslide\") `no`escape`from `reality 2 3  (2;2f;2) 2025.02.25..\n",
      "is     | (\"caught\";\"in a landslide\")\n",
      "this   | `no`escape`from\n",
      "the    | `reality\n",
      "real   | 2 3\n",
      "world  | (2;2f;2)\n",
      "or     | 2025.02.25\n",
      "is     | `the`neverending\n",
      "this   | `story\n",
      "just   | 1\n",
      "fantasy| \"!!!!\"\n"
     ]
    }
   ],
   "source": [
    "keyVals:    ((`is;(\"caught\";\"in a landslide\"));\n",
    "            (`this;`no`escape`from);\n",
    "            (`the;`reality);\n",
    "            (`real;2 3);\n",
    "            (`world;(2;2f;2));\n",
    "            (`or;.z.d);\n",
    "            (`is;`the`neverending);\n",
    "            (`this;`story);\n",
    "            (`just;1);\n",
    "            (`fantasy;\"!!!!\"))\n",
    "flip keyVals         //our list of (keys;values)\n",
    "\n",
    "//\"make these lists a dictionary\"\n",
    ".[!] flip keyVals"
   ]
  },
  {
   "cell_type": "markdown",
   "metadata": {
    "heading_collapsed": true
   },
   "source": [
    "# Dictionaries as Function Input \n",
    "\n",
    "It's good practice to use dictionaries as input to functions when: \n",
    "+ The parameters might change (e.g. two inputs atm, but might need to add more, or remove some) - less updating required in the code base as the function's valence doesn't change.\n",
    "+ The parameters are variable in nature (e.g. sometimes three, sometimes four) - avoid rank errors and unexpected projections \n",
    "+ We want to set default parameter values - can set default parameters more easily using dictionaries \n",
    "+ We have a large number of parameters, exceeding eight even - can't have more than 8 explicit arguments in functions so this avoids that. \n",
    "+ We want improved code readability - it's usually easier to read code where we reference inputs like <code>param[\\`capsSetting]</code> versus `param[2]`."
   ]
  },
  {
   "cell_type": "markdown",
   "metadata": {
    "hidden": true
   },
   "source": [
    "Worked example of a function which checks whether a student passed or not. The function takes a parameter dictionary as input and returns a string which mentions the result."
   ]
  },
  {
   "cell_type": "code",
   "execution_count": null,
   "metadata": {
    "hidden": true
   },
   "outputs": [],
   "source": [
    "checkPassed:{[paramDict]\n",
    "    //check required parameters \n",
    "    requiredParams: `name`result;\n",
    "    if[not all requiredParams in key paramDict;\n",
    "            -2 \"Error: missing required values:\",\",\" sv string requiredParams except key paramDict; \n",
    "            :0b];  //force returning a value of 0b from the function to indicate function failure\n",
    "    //other input checks could be added - e.g. that name and result are of the right format \n",
    "            \n",
    "    //setting default values\n",
    "    defaultParams:.[!] flip ((`passLevel;70);\n",
    "                            (`otherParams;`etc));\n",
    "    \n",
    "    //using dictionary coalescing to combine the passed parameters and our default inputs \n",
    "    params:defaultParams^paramDict;\n",
    "\n",
    "    //checking if the result is above the pass mark\n",
    "    res:params[`result] > params[`passLevel];\n",
    "    //using this result to index into a condition list \n",
    "    pass:$[res;\" did \"; \" did not \"],\"pass,\";\n",
    "\n",
    "    //returning a string indication of whether they passed or failed \n",
    "    \"The participant \",string[params[`name]],pass,\" with a result of:\",string[params[`result]]\n",
    "    \n",
    " }"
   ]
  },
  {
   "cell_type": "markdown",
   "metadata": {
    "hidden": true
   },
   "source": [
    "There is a lot happening in the above function so read through carefully and make sure you understand what each line is doing.\n",
    "\n",
    "Now we have the function defined we can use it to check some results: "
   ]
  },
  {
   "cell_type": "code",
   "execution_count": null,
   "metadata": {
    "hidden": true
   },
   "outputs": [],
   "source": [
    "//passing an empty dictionary alarms that we don't have the right input \n",
    "checkPassed[()!()]           \n",
    "\n",
    "//passing a dictionary with just the required input\n",
    "checkPassed[`name`result!(`rebecca;50)] \n",
    "\n",
    "//passing a dictionary with the required input and an optional parameter - changing the passLevel param\n",
    "checkPassed[`name`result`passLevel!(`rebecca;50;30)]  "
   ]
  },
  {
   "cell_type": "markdown",
   "metadata": {
    "heading_collapsed": true
   },
   "source": [
    "# Why we shouldn't use dot notation \n",
    "In our q-bee note we advise against using dot notation to update or retrieve values from dictionaries - heres why! "
   ]
  },
  {
   "cell_type": "markdown",
   "metadata": {
    "hidden": true
   },
   "source": [
    "Whenever we use dot (`.`) notation we need the dictionary to be both untyped, and global. In general in kdb+/q, any dot notation used is referencing a global value and so will error if this isn't found globally, or in some cases we might be insidiously updating values that we didn't intend.\n",
    "\n",
    "Here's an example of a case where using dot notation won't work: "
   ]
  },
  {
   "cell_type": "code",
   "execution_count": 6,
   "metadata": {
    "hidden": true,
    "scrolled": true
   },
   "outputs": [
    {
     "name": "stdout",
     "output_type": "stream",
     "text": [
      "a| 1\n",
      "b| 2\n",
      "c| 3\n"
     ]
    },
    {
     "ename": "QError",
     "evalue": "d.this",
     "output_type": "error",
     "traceback": [
      "\u001b[0;31m---------------------------------------------------------------------------\u001b[0m",
      "\u001b[0;31mQError\u001b[0m                                    Traceback (most recent call last)",
      "Cell \u001b[0;32mIn[6], line 1\u001b[0m\n\u001b[0;32m----> 1\u001b[0m \u001b[43mget_ipython\u001b[49m\u001b[43m(\u001b[49m\u001b[43m)\u001b[49m\u001b[38;5;241;43m.\u001b[39;49m\u001b[43mrun_cell_magic\u001b[49m\u001b[43m(\u001b[49m\u001b[38;5;124;43m'\u001b[39;49m\u001b[38;5;124;43mq\u001b[39;49m\u001b[38;5;124;43m'\u001b[39;49m\u001b[43m,\u001b[49m\u001b[43m \u001b[49m\u001b[38;5;124;43m'\u001b[39;49m\u001b[38;5;124;43m'\u001b[39;49m\u001b[43m,\u001b[49m\u001b[43m \u001b[49m\u001b[38;5;124;43m'\u001b[39;49m\u001b[38;5;124;43mshow d: `a`b`c! 1 2 3;   //not an untyped dictionary\u001b[39;49m\u001b[38;5;130;43;01m\\n\u001b[39;49;00m\u001b[38;5;124;43m/ d.b                      //errors\u001b[39;49m\u001b[38;5;130;43;01m\\n\u001b[39;49;00m\u001b[38;5;124;43md.this:2                 //also errors - comment the line above to see\u001b[39;49m\u001b[38;5;130;43;01m\\n\u001b[39;49;00m\u001b[38;5;124;43m'\u001b[39;49m\u001b[43m)\u001b[49m\n",
      "File \u001b[0;32m/opt/conda/lib/python3.11/site-packages/IPython/core/interactiveshell.py:2541\u001b[0m, in \u001b[0;36mInteractiveShell.run_cell_magic\u001b[0;34m(self, magic_name, line, cell)\u001b[0m\n\u001b[1;32m   2539\u001b[0m \u001b[38;5;28;01mwith\u001b[39;00m \u001b[38;5;28mself\u001b[39m\u001b[38;5;241m.\u001b[39mbuiltin_trap:\n\u001b[1;32m   2540\u001b[0m     args \u001b[38;5;241m=\u001b[39m (magic_arg_s, cell)\n\u001b[0;32m-> 2541\u001b[0m     result \u001b[38;5;241m=\u001b[39m \u001b[43mfn\u001b[49m\u001b[43m(\u001b[49m\u001b[38;5;241;43m*\u001b[39;49m\u001b[43margs\u001b[49m\u001b[43m,\u001b[49m\u001b[43m \u001b[49m\u001b[38;5;241;43m*\u001b[39;49m\u001b[38;5;241;43m*\u001b[39;49m\u001b[43mkwargs\u001b[49m\u001b[43m)\u001b[49m\n\u001b[1;32m   2543\u001b[0m \u001b[38;5;66;03m# The code below prevents the output from being displayed\u001b[39;00m\n\u001b[1;32m   2544\u001b[0m \u001b[38;5;66;03m# when using magics with decorator @output_can_be_silenced\u001b[39;00m\n\u001b[1;32m   2545\u001b[0m \u001b[38;5;66;03m# when the last Python token in the expression is a ';'.\u001b[39;00m\n\u001b[1;32m   2546\u001b[0m \u001b[38;5;28;01mif\u001b[39;00m \u001b[38;5;28mgetattr\u001b[39m(fn, magic\u001b[38;5;241m.\u001b[39mMAGIC_OUTPUT_CAN_BE_SILENCED, \u001b[38;5;28;01mFalse\u001b[39;00m):\n",
      "File \u001b[0;32m/opt/conda/lib/python3.11/site-packages/pykx/nbextension.py:181\u001b[0m, in \u001b[0;36mq\u001b[0;34m(instructions, code)\u001b[0m\n\u001b[1;32m    179\u001b[0m     \u001b[38;5;28;01mif\u001b[39;00m save:\n\u001b[1;32m    180\u001b[0m         \u001b[38;5;28mprint\u001b[39m(\u001b[38;5;124mf\u001b[39m\u001b[38;5;124m\"\u001b[39m\u001b[38;5;124mCell contents not saved to \u001b[39m\u001b[38;5;124m'\u001b[39m\u001b[38;5;132;01m{\u001b[39;00mpath\u001b[38;5;132;01m}\u001b[39;00m\u001b[38;5;124m'\u001b[39m\u001b[38;5;124m due to error during execution/saving.\u001b[39m\u001b[38;5;124m\"\u001b[39m)\n\u001b[0;32m--> 181\u001b[0m     \u001b[38;5;28;01mraise\u001b[39;00m e\n\u001b[1;32m    182\u001b[0m \u001b[38;5;28;01mfinally\u001b[39;00m:\n\u001b[1;32m    183\u001b[0m     \u001b[38;5;28;01mif\u001b[39;00m \u001b[38;5;28missubclass\u001b[39m(\u001b[38;5;28mtype\u001b[39m(_q), kx\u001b[38;5;241m.\u001b[39mQConnection):\n",
      "File \u001b[0;32m/opt/conda/lib/python3.11/site-packages/pykx/nbextension.py:169\u001b[0m, in \u001b[0;36mq\u001b[0;34m(instructions, code)\u001b[0m\n\u001b[1;32m    167\u001b[0m     \u001b[38;5;28;01mif\u001b[39;00m debug \u001b[38;5;129;01mor\u001b[39;00m kx\u001b[38;5;241m.\u001b[39mconfig\u001b[38;5;241m.\u001b[39mpykx_qdebug:\n\u001b[1;32m    168\u001b[0m         \u001b[38;5;28mprint\u001b[39m(r[\u001b[38;5;124m'\u001b[39m\u001b[38;5;124mtrc\u001b[39m\u001b[38;5;124m'\u001b[39m])\n\u001b[0;32m--> 169\u001b[0m     \u001b[38;5;28;01mraise\u001b[39;00m kx\u001b[38;5;241m.\u001b[39mQError(r[\u001b[38;5;124m'\u001b[39m\u001b[38;5;124mres\u001b[39m\u001b[38;5;124m'\u001b[39m]\u001b[38;5;241m.\u001b[39mpy()\u001b[38;5;241m.\u001b[39mdecode())\n\u001b[1;32m    170\u001b[0m \u001b[38;5;28;01melse\u001b[39;00m:\n\u001b[1;32m    171\u001b[0m     display(r[\u001b[38;5;124m'\u001b[39m\u001b[38;5;124mres\u001b[39m\u001b[38;5;124m'\u001b[39m]) \u001b[38;5;28;01mif\u001b[39;00m displayRet \u001b[38;5;28;01melse\u001b[39;00m \u001b[38;5;28mprint\u001b[39m(r[\u001b[38;5;124m'\u001b[39m\u001b[38;5;124mres\u001b[39m\u001b[38;5;124m'\u001b[39m])\n",
      "\u001b[0;31mQError\u001b[0m: d.this"
     ]
    }
   ],
   "source": [
    "show d: `a`b`c! 1 2 3;   //not an untyped dictionary\n",
    "/ d.b                      //errors\n",
    "d.this:2                 //also errors - comment the line above to see"
   ]
  },
  {
   "cell_type": "markdown",
   "metadata": {
    "hidden": true
   },
   "source": [
    "In order for this syntax to work, we change our dictionary to be untyped, and this will now work globally:  "
   ]
  },
  {
   "cell_type": "code",
   "execution_count": 7,
   "metadata": {
    "hidden": true,
    "scrolled": true
   },
   "outputs": [
    {
     "name": "stdout",
     "output_type": "stream",
     "text": [
      "2\n",
      "    | ::\n",
      "a   | 1\n",
      "b   | 2\n",
      "c   | 3\n",
      "this| 2\n",
      " | ::\n",
      "a| 1\n",
      "b| 2\n",
      "c| 3\n"
     ]
    }
   ],
   "source": [
    "show d: ``a`b`c! (::;1; 2 ;3) ;  //untyped dictionary\n",
    "d.b\n",
    "d.this:2\n",
    "d"
   ]
  },
  {
   "cell_type": "markdown",
   "metadata": {
    "hidden": true
   },
   "source": [
    "This however can lead to some odd behaviour within a function that might not have been intended by the creator: "
   ]
  },
  {
   "cell_type": "code",
   "execution_count": null,
   "metadata": {
    "hidden": true,
    "scrolled": true
   },
   "outputs": [],
   "source": [
    "//defining a value of d globally\n",
    "show d: ``a`b`c! (::;1; 2 ;3) ;\n",
    "\n",
    "\n",
    "{ d: ``a`b`c! (::;6; 6 ;6);\n",
    "    -1 \"Dictionary definition within function:\"; \n",
    "    show d; \n",
    "    -1 \"Dictionary value for `b returned when using dot notation:\",string d.b;\n",
    "    //referencing the global value!! \n",
    "    d.b }[]"
   ]
  },
  {
   "cell_type": "markdown",
   "metadata": {
    "hidden": true
   },
   "source": [
    "<img src=\"../qbies.png\" width=\"50px\" style=\"width: 50px;padding-right:5px;padding-top:15px;padding-left:5px;\" align=\"left\"/>\n",
    "\n",
    "<p style='color:#273a6e'><i> <b>All of these problems can be avoided!!</b> If we use functional notation (aka indexing notation) all of the above will return the value we expect. We can think of the key values of a dictionary as the indexes in this context.  </i></p>"
   ]
  },
  {
   "cell_type": "code",
   "execution_count": null,
   "metadata": {
    "hidden": true,
    "scrolled": true
   },
   "outputs": [],
   "source": [
    "show d: `a`b`c! 1 2 3;   //not an untyped dictionary\n",
    "show d[`b]                   \n",
    "show d[`this]:2    "
   ]
  },
  {
   "cell_type": "code",
   "execution_count": null,
   "metadata": {
    "hidden": true,
    "scrolled": true
   },
   "outputs": [],
   "source": [
    "show d: ``a`b`c! (::;1; 2 ;3) ;  //untyped dictionary\n",
    "show d[`b]\n",
    "show d[`this]:2\n",
    "show d   "
   ]
  },
  {
   "cell_type": "code",
   "execution_count": null,
   "metadata": {
    "hidden": true,
    "scrolled": true
   },
   "outputs": [],
   "source": [
    "//defining a value of d globally\n",
    "show d: ``a`b`c! (::;1; 2 ;3) ;\n",
    "\n",
    "\n",
    "{ d: ``a`b`c! (::;6; 6 ;6);\n",
    "    -1 \"Dictionary definition within function:\"; \n",
    "    show d; \n",
    "    -1 \"Dictionary value returned when using functional notation:\",string d[`b];\n",
    "    //referencing the within function scope value!! \n",
    "    d[`b] }[]"
   ]
  },
  {
   "cell_type": "markdown",
   "metadata": {
    "hidden": true
   },
   "source": [
    "This doesn't mean you should *never* use dot notation, it's just not best practice. If there is a case in which you need to use it just use with care and remember it references global values and ignores function scope! "
   ]
  },
  {
   "cell_type": "markdown",
   "metadata": {},
   "source": [
    "# Dictionaries and Tables - the link, column dictionaries \n",
    "Dictionaries and tables are intrinsically related - in fact a table is just a list of dictionaries! "
   ]
  },
  {
   "cell_type": "markdown",
   "metadata": {},
   "source": [
    "##### Column dictionaries\n",
    "Column dictionaries are the foundation for tables. They are a special subset of dictionaries where the mapping is from a simple list of symbols to a rectangular list of lists. We can create a table from dictionaries of this format. "
   ]
  },
  {
   "cell_type": "code",
   "execution_count": null,
   "metadata": {},
   "outputs": [],
   "source": [
    "d: `col1`col2`col3!(1 2 2; 7 5 2; `a`b`cc)\n",
    "flip d"
   ]
  },
  {
   "cell_type": "code",
   "execution_count": null,
   "metadata": {},
   "outputs": [],
   "source": [
    "d: string[`col1`col2`col3]!(1 2 2; 7 5 2; `a`b`cc)  //not a symbol list key\n",
    "flip d                                              //therefore can't be interpreted as a table"
   ]
  },
  {
   "cell_type": "markdown",
   "metadata": {},
   "source": [
    "<img src=\"../qbies.png\" width=\"50px\" style=\"width: 50px;padding-right:5px;padding-top:5px;padding-left:5px;\" align=\"left\"/>\n",
    "\n",
    "<p style='color:#273a6e'><i> We can only <code>flip</code> rectangular dictionaries - i.e. dictionaries where each key  is assigned to lists of the same length.</i></p>\n",
    " "
   ]
  },
  {
   "cell_type": "markdown",
   "metadata": {},
   "source": [
    "Similarly we can `flip` a table to return to a dictionary:"
   ]
  },
  {
   "cell_type": "code",
   "execution_count": 8,
   "metadata": {},
   "outputs": [
    {
     "name": "stdout",
     "output_type": "stream",
     "text": [
      "name| john steve rachel\n",
      "ages| 20   31    22    \n",
      "name   ages\n",
      "-----------\n",
      "john   20  \n",
      "steve  31  \n",
      "rachel 22  \n"
     ]
    }
   ],
   "source": [
    "show t:([]name:`john`steve`rachel;ages:20 31 22) //defining a table\n",
    "flip t"
   ]
  },
  {
   "cell_type": "markdown",
   "metadata": {},
   "source": [
    "We could also have defined the above table from a dictionary as follows: "
   ]
  },
  {
   "cell_type": "code",
   "execution_count": 9,
   "metadata": {},
   "outputs": [
    {
     "name": "stdout",
     "output_type": "stream",
     "text": [
      "name   ages\n",
      "-----------\n",
      "john   20  \n",
      "steve  31  \n",
      "rachel 22  \n",
      "1b\n"
     ]
    }
   ],
   "source": [
    "t2: `name`ages!(`john`steve`rachel;20 31 22)\n",
    "flip t2\n",
    "t~flip t2   //are these the same?"
   ]
  },
  {
   "cell_type": "markdown",
   "metadata": {},
   "source": [
    "<img src=\"../qbies.png\" width=\"50px\" style=\"width: 50px;padding-right:5px;padding-top:5px;padding-left:5px;\" align=\"left\"/>\n",
    "\n",
    "<p style='color:#273a6e'><i> Each row in a kdb+/q table is actually a dictionary! This is pretty central to understanding the relationship between tables and dictionaries.</i></p>\n",
    " "
   ]
  },
  {
   "cell_type": "markdown",
   "metadata": {},
   "source": [
    "We can prove this by indexing into a row of our table: "
   ]
  },
  {
   "cell_type": "code",
   "execution_count": 10,
   "metadata": {},
   "outputs": [
    {
     "name": "stdout",
     "output_type": "stream",
     "text": [
      "name| `john\n",
      "ages| 20\n"
     ]
    }
   ],
   "source": [
    "t[0]     //first row of our table"
   ]
  },
  {
   "cell_type": "markdown",
   "metadata": {},
   "source": [
    "##### Atomic dictionaries  -> Tables\n",
    "A nuance to this, is that tables in kdb+/q require their columns to be lists so if we have an atomic value dictionary we can't `flip` this to a table in the same way: "
   ]
  },
  {
   "cell_type": "code",
   "execution_count": 11,
   "metadata": {},
   "outputs": [
    {
     "ename": "QError",
     "evalue": "rank",
     "output_type": "error",
     "traceback": [
      "\u001b[0;31m---------------------------------------------------------------------------\u001b[0m",
      "\u001b[0;31mQError\u001b[0m                                    Traceback (most recent call last)",
      "Cell \u001b[0;32mIn[11], line 1\u001b[0m\n\u001b[0;32m----> 1\u001b[0m \u001b[43mget_ipython\u001b[49m\u001b[43m(\u001b[49m\u001b[43m)\u001b[49m\u001b[38;5;241;43m.\u001b[39;49m\u001b[43mrun_cell_magic\u001b[49m\u001b[43m(\u001b[49m\u001b[38;5;124;43m'\u001b[39;49m\u001b[38;5;124;43mq\u001b[39;49m\u001b[38;5;124;43m'\u001b[39;49m\u001b[43m,\u001b[49m\u001b[43m \u001b[49m\u001b[38;5;124;43m'\u001b[39;49m\u001b[38;5;124;43m'\u001b[39;49m\u001b[43m,\u001b[49m\u001b[43m \u001b[49m\u001b[38;5;124;43m'\u001b[39;49m\u001b[38;5;124;43md: `a`b!1 2\u001b[39;49m\u001b[38;5;130;43;01m\\n\u001b[39;49;00m\u001b[38;5;124;43mflip d\u001b[39;49m\u001b[38;5;130;43;01m\\n\u001b[39;49;00m\u001b[38;5;124;43m'\u001b[39;49m\u001b[43m)\u001b[49m\n",
      "File \u001b[0;32m/opt/conda/lib/python3.11/site-packages/IPython/core/interactiveshell.py:2541\u001b[0m, in \u001b[0;36mInteractiveShell.run_cell_magic\u001b[0;34m(self, magic_name, line, cell)\u001b[0m\n\u001b[1;32m   2539\u001b[0m \u001b[38;5;28;01mwith\u001b[39;00m \u001b[38;5;28mself\u001b[39m\u001b[38;5;241m.\u001b[39mbuiltin_trap:\n\u001b[1;32m   2540\u001b[0m     args \u001b[38;5;241m=\u001b[39m (magic_arg_s, cell)\n\u001b[0;32m-> 2541\u001b[0m     result \u001b[38;5;241m=\u001b[39m \u001b[43mfn\u001b[49m\u001b[43m(\u001b[49m\u001b[38;5;241;43m*\u001b[39;49m\u001b[43margs\u001b[49m\u001b[43m,\u001b[49m\u001b[43m \u001b[49m\u001b[38;5;241;43m*\u001b[39;49m\u001b[38;5;241;43m*\u001b[39;49m\u001b[43mkwargs\u001b[49m\u001b[43m)\u001b[49m\n\u001b[1;32m   2543\u001b[0m \u001b[38;5;66;03m# The code below prevents the output from being displayed\u001b[39;00m\n\u001b[1;32m   2544\u001b[0m \u001b[38;5;66;03m# when using magics with decorator @output_can_be_silenced\u001b[39;00m\n\u001b[1;32m   2545\u001b[0m \u001b[38;5;66;03m# when the last Python token in the expression is a ';'.\u001b[39;00m\n\u001b[1;32m   2546\u001b[0m \u001b[38;5;28;01mif\u001b[39;00m \u001b[38;5;28mgetattr\u001b[39m(fn, magic\u001b[38;5;241m.\u001b[39mMAGIC_OUTPUT_CAN_BE_SILENCED, \u001b[38;5;28;01mFalse\u001b[39;00m):\n",
      "File \u001b[0;32m/opt/conda/lib/python3.11/site-packages/pykx/nbextension.py:181\u001b[0m, in \u001b[0;36mq\u001b[0;34m(instructions, code)\u001b[0m\n\u001b[1;32m    179\u001b[0m     \u001b[38;5;28;01mif\u001b[39;00m save:\n\u001b[1;32m    180\u001b[0m         \u001b[38;5;28mprint\u001b[39m(\u001b[38;5;124mf\u001b[39m\u001b[38;5;124m\"\u001b[39m\u001b[38;5;124mCell contents not saved to \u001b[39m\u001b[38;5;124m'\u001b[39m\u001b[38;5;132;01m{\u001b[39;00mpath\u001b[38;5;132;01m}\u001b[39;00m\u001b[38;5;124m'\u001b[39m\u001b[38;5;124m due to error during execution/saving.\u001b[39m\u001b[38;5;124m\"\u001b[39m)\n\u001b[0;32m--> 181\u001b[0m     \u001b[38;5;28;01mraise\u001b[39;00m e\n\u001b[1;32m    182\u001b[0m \u001b[38;5;28;01mfinally\u001b[39;00m:\n\u001b[1;32m    183\u001b[0m     \u001b[38;5;28;01mif\u001b[39;00m \u001b[38;5;28missubclass\u001b[39m(\u001b[38;5;28mtype\u001b[39m(_q), kx\u001b[38;5;241m.\u001b[39mQConnection):\n",
      "File \u001b[0;32m/opt/conda/lib/python3.11/site-packages/pykx/nbextension.py:169\u001b[0m, in \u001b[0;36mq\u001b[0;34m(instructions, code)\u001b[0m\n\u001b[1;32m    167\u001b[0m     \u001b[38;5;28;01mif\u001b[39;00m debug \u001b[38;5;129;01mor\u001b[39;00m kx\u001b[38;5;241m.\u001b[39mconfig\u001b[38;5;241m.\u001b[39mpykx_qdebug:\n\u001b[1;32m    168\u001b[0m         \u001b[38;5;28mprint\u001b[39m(r[\u001b[38;5;124m'\u001b[39m\u001b[38;5;124mtrc\u001b[39m\u001b[38;5;124m'\u001b[39m])\n\u001b[0;32m--> 169\u001b[0m     \u001b[38;5;28;01mraise\u001b[39;00m kx\u001b[38;5;241m.\u001b[39mQError(r[\u001b[38;5;124m'\u001b[39m\u001b[38;5;124mres\u001b[39m\u001b[38;5;124m'\u001b[39m]\u001b[38;5;241m.\u001b[39mpy()\u001b[38;5;241m.\u001b[39mdecode())\n\u001b[1;32m    170\u001b[0m \u001b[38;5;28;01melse\u001b[39;00m:\n\u001b[1;32m    171\u001b[0m     display(r[\u001b[38;5;124m'\u001b[39m\u001b[38;5;124mres\u001b[39m\u001b[38;5;124m'\u001b[39m]) \u001b[38;5;28;01mif\u001b[39;00m displayRet \u001b[38;5;28;01melse\u001b[39;00m \u001b[38;5;28mprint\u001b[39m(r[\u001b[38;5;124m'\u001b[39m\u001b[38;5;124mres\u001b[39m\u001b[38;5;124m'\u001b[39m])\n",
      "\u001b[0;31mQError\u001b[0m: rank"
     ]
    }
   ],
   "source": [
    "d: `a`b!1 2\n",
    "flip d"
   ]
  },
  {
   "cell_type": "markdown",
   "metadata": {},
   "source": [
    "If we remember that a table really is a list of dictionaries, we can create a table from a list of dictionaries (with conforming keys): "
   ]
  },
  {
   "cell_type": "code",
   "execution_count": 13,
   "metadata": {},
   "outputs": [
    {
     "name": "stdout",
     "output_type": "stream",
     "text": [
      "a b\n",
      "---\n",
      "1 2\n"
     ]
    }
   ],
   "source": [
    "/ (d;d)     //simple table\n",
    "enlist d  //therefore, enlist our atomic dictionary will create a table!"
   ]
  },
  {
   "cell_type": "markdown",
   "metadata": {
    "heading_collapsed": true
   },
   "source": [
    "# Namespaces"
   ]
  },
  {
   "cell_type": "markdown",
   "metadata": {
    "hidden": true
   },
   "source": [
    "[`Namespaces`](https://code.kx.com/q4m3/12_Workspace_Organization/#120-overview) is the idea of placing a (usually hierarchical) structure on names. Namespacing in q is implemented with dictionaries. A context is a dictionary whose keys are the symbolic names of the variables in the corresponding namespace. The context dictionary associates each variable name with its currently assigned value."
   ]
  },
  {
   "cell_type": "markdown",
   "metadata": {
    "hidden": true
   },
   "source": [
    "A context is a specially formatted q dictionary. Its keys are the symbolic names of the variables it contains; each is associated with the current value of the corresponding variable."
   ]
  },
  {
   "cell_type": "markdown",
   "metadata": {
    "hidden": true
   },
   "source": [
    "The context dictionaries are dictionaries that live in the workspace along with ordinary variables, which have special meaning to q. We can perform operations on them just as with our own dictionaries.\n",
    "\n",
    "When we start a fresh q session, the root dictionary is empty. As with any variable, we can reveal the root context by applying `get` (or `value`) to its name and then applying the utility [`.Q.s1`](https://code.kx.com/q/ref/dotq/#qs1-string-representation) to display its internal form since it is empty."
   ]
  },
  {
   "cell_type": "markdown",
   "metadata": {
    "hidden": true
   },
   "source": [
    "Let's restart our Kernel before doing this."
   ]
  },
  {
   "cell_type": "code",
   "execution_count": 14,
   "metadata": {
    "hidden": true
   },
   "outputs": [
    {
     "name": "stdout",
     "output_type": "stream",
     "text": [
      "`keyVals`d`t`t2!(((`is;(\"caught\";\"in a landslide\"));(`this;`no`escape`from);`..\n"
     ]
    }
   ],
   "source": [
    ".Q.s1  get `."
   ]
  },
  {
   "cell_type": "markdown",
   "metadata": {
    "hidden": true
   },
   "source": [
    "Here we can see all the symbols and their values in the current root namespace."
   ]
  },
  {
   "cell_type": "markdown",
   "metadata": {
    "hidden": true
   },
   "source": [
    "Let's define a variable and a function"
   ]
  },
  {
   "cell_type": "code",
   "execution_count": 15,
   "metadata": {
    "hidden": true
   },
   "outputs": [],
   "source": [
    "a:5\n",
    "func : {x+y}"
   ]
  },
  {
   "cell_type": "code",
   "execution_count": 16,
   "metadata": {
    "hidden": true
   },
   "outputs": [
    {
     "name": "stdout",
     "output_type": "stream",
     "text": [
      "keyVals| ((`is;(\"caught\";\"in a landslide\"));(`this;`no`escape`from);`the`real..\n",
      "d      | `a`b!1 2\n",
      "t      | +`name`ages!(`john`steve`rachel;20 31 22)\n",
      "t2     | `name`ages!(`john`steve`rachel;20 31 22)\n",
      "a      | 5\n",
      "func   | {x+y}\n"
     ]
    }
   ],
   "source": [
    "get `."
   ]
  },
  {
   "cell_type": "markdown",
   "metadata": {
    "hidden": true
   },
   "source": [
    "The entries in a context dictionary are sorted by name"
   ]
  },
  {
   "cell_type": "markdown",
   "metadata": {
    "hidden": true
   },
   "source": [
    "Things get more interesting when we use namespacing and create a context."
   ]
  },
  {
   "cell_type": "code",
   "execution_count": 17,
   "metadata": {
    "hidden": true
   },
   "outputs": [
    {
     "name": "stdout",
     "output_type": "stream",
     "text": [
      "keyVals| ((`is;(\"caught\";\"in a landslide\"));(`this;`no`escape`from);`the`real..\n",
      "d      | `a`b!1 2\n",
      "t      | +`name`ages!(`john`steve`rachel;20 31 22)\n",
      "t2     | `name`ages!(`john`steve`rachel;20 31 22)\n",
      "a      | 5\n",
      "func   | {x+y}\n",
      "   | ::\n",
      "bar| 50\n"
     ]
    }
   ],
   "source": [
    ".foo.bar : 50\n",
    "\n",
    "get `.\n",
    "get `.foo"
   ]
  },
  {
   "cell_type": "markdown",
   "metadata": {
    "hidden": true
   },
   "source": [
    "Observe that the newly created context dictionary for .foo is not physically in the root directory; it is a separate dictionary."
   ]
  },
  {
   "cell_type": "markdown",
   "metadata": {
    "hidden": true
   },
   "source": [
    "<img src=\"../qbies.png\" width=\"50px\" style=\"width: 50px;padding-right:5px;padding-top:5px;padding-left:5px;\" align=\"left\"/>\n",
    "\n",
    "<p style='color:#273a6e'><i> The significance of the :: in the first entry of the .foo context dictionary is to prevent the value list of the context dictionary from collapsing to a simple list in case all the variables should have values of the same scalar type. This would then prevent subsequent definition of variables of other types in that context.</i></p>\n",
    " \n"
   ]
  },
  {
   "cell_type": "markdown",
   "metadata": {
    "heading_collapsed": true
   },
   "source": [
    "# Advanced - Dictionaries and attributes\n",
    "[Attributes](https://code.kx.com/q4m3/8_Tables/#88-attributes) are metadata (e.g. like tags) in kdb+/q that indicate that the referenced data is in a particular format. When we apply attributes to dictionaries we can achieve some interesting results"
   ]
  },
  {
   "cell_type": "markdown",
   "metadata": {
    "heading_collapsed": true,
    "hidden": true
   },
   "source": [
    "## Sorted attribute - Step function "
   ]
  },
  {
   "cell_type": "markdown",
   "metadata": {
    "hidden": true
   },
   "source": [
    "When we apply a sorted attribute to our dictionary we can use it as a [step function](https://en.wikipedia.org/wiki/Step_function) - namely we can retrieve values from our dictionary that don't have explicit keys. \n",
    "\n",
    "For example, imagine we wanted to know the associated [viscosity of water depending on its temperature](https://www.engineersedge.com/physics/water__density_viscosity_specific_weight_13146.htm) - we can encode that into a dictionary: "
   ]
  },
  {
   "cell_type": "code",
   "execution_count": 18,
   "metadata": {
    "hidden": true
   },
   "outputs": [
    {
     "name": "stdout",
     "output_type": "stream",
     "text": [
      "1.308\n",
      "0n\n",
      "10| 1.308\n",
      "20| 1.002\n",
      "30| 0.7978\n",
      "40| 0.6531\n",
      "50| 0.5471\n"
     ]
    }
   ],
   "source": [
    "show tempVisc: 10 20 30 40 50f! 1.308 1.002 0.7978 0.6531 0.5471\n",
    "tempVisc[10f]\n",
    "tempVisc[15f]"
   ]
  },
  {
   "cell_type": "markdown",
   "metadata": {
    "hidden": true
   },
   "source": [
    "If we apply a sorted attribute to our dictionary, it will becomes a step function:"
   ]
  },
  {
   "cell_type": "code",
   "execution_count": 19,
   "metadata": {
    "hidden": true
   },
   "outputs": [
    {
     "name": "stdout",
     "output_type": "stream",
     "text": [
      "1.308\n",
      "1.308 0.7978 1.002\n",
      "10| 1.308\n",
      "20| 1.002\n",
      "30| 0.7978\n",
      "40| 0.6531\n",
      "50| 0.5471\n"
     ]
    }
   ],
   "source": [
    "show step: `s#tempVisc\n",
    "step[10f]\n",
    "step[15 35 29.99999f]   //returns the value associated with the largest key that our input exceeds\n",
    "                        //aka - it returns the previous \"step\""
   ]
  },
  {
   "cell_type": "markdown",
   "metadata": {
    "heading_collapsed": true,
    "hidden": true
   },
   "source": [
    "## Unique attribute - consistent performance\n",
    "When you know that the keys are unique you can apply the <code>\\`u#</code> attribute to the keys. This will effectively cause the dictionary to be a hash table with the attendant improvement in lookup speed over the default linear lookup."
   ]
  },
  {
   "cell_type": "code",
   "execution_count": 20,
   "metadata": {
    "hidden": true
   },
   "outputs": [
    {
     "name": "stdout",
     "output_type": "stream",
     "text": [
      "a| 10\n",
      "b| 20\n",
      "c| 30\n"
     ]
    }
   ],
   "source": [
    "(`u#`a`b`c)!10 20 30"
   ]
  }
 ],
 "metadata": {
  "kernelspec": {
   "display_name": "Python 3 (ipykernel)",
   "language": "python",
   "name": "python3"
  },
  "language_info": {
   "codemirror_mode": {
    "name": "ipython",
    "version": 3
   },
   "file_extension": ".py",
   "mimetype": "text/x-python",
   "name": "python",
   "nbconvert_exporter": "python",
   "pygments_lexer": "ipython3",
   "version": "3.11.10"
  },
  "toc": {
   "base_numbering": 1,
   "nav_menu": {},
   "number_sections": true,
   "sideBar": true,
   "skip_h1_title": false,
   "title_cell": "Table of Contents",
   "title_sidebar": "Contents",
   "toc_cell": false,
   "toc_position": {
    "height": "calc(100% - 180px)",
    "left": "10px",
    "top": "150px",
    "width": "165px"
   },
   "toc_section_display": true,
   "toc_window_display": true
  }
 },
 "nbformat": 4,
 "nbformat_minor": 4
}
